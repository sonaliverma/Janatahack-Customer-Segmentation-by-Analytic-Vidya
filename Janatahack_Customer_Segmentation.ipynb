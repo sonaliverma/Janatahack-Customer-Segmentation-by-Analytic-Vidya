{
  "nbformat": 4,
  "nbformat_minor": 0,
  "metadata": {
    "colab": {
      "name": "Janatahack Customer Segmentation",
      "provenance": []
    },
    "kernelspec": {
      "name": "python3",
      "display_name": "Python 3"
    }
  },
  "cells": [
    {
      "cell_type": "code",
      "metadata": {
        "id": "vIUvMONJs1nA",
        "colab_type": "code",
        "colab": {
          "base_uri": "https://localhost:8080/",
          "height": 887
        },
        "outputId": "9b2675d4-8cbc-4444-b965-9caa0853abc9"
      },
      "source": [
        "\n",
        "!pip install rfpimp\n",
        "!pip install catboost"
      ],
      "execution_count": null,
      "outputs": [
        {
          "output_type": "stream",
          "text": [
            "Collecting rfpimp\n",
            "  Downloading https://files.pythonhosted.org/packages/36/05/ce8f1d3a035a4ddda3c888af945908e9f61cbec32f73148fc8e788a8632a/rfpimp-1.3.5.tar.gz\n",
            "Collecting stratx>=0.2\n",
            "\u001b[?25l  Downloading https://files.pythonhosted.org/packages/68/81/4f5964f7cb47c965f943c6e0cbbd78f8b44e9f3d2c8cac27cf83779e22a1/stratx-0.4.1.tar.gz (160kB)\n",
            "\u001b[K     |████████████████████████████████| 163kB 7.4MB/s \n",
            "\u001b[?25hRequirement already satisfied: numpy in /usr/local/lib/python3.6/dist-packages (from rfpimp) (1.18.5)\n",
            "Requirement already satisfied: pandas in /usr/local/lib/python3.6/dist-packages (from rfpimp) (1.0.5)\n",
            "Requirement already satisfied: scikit-learn in /usr/local/lib/python3.6/dist-packages (from rfpimp) (0.22.2.post1)\n",
            "Requirement already satisfied: matplotlib in /usr/local/lib/python3.6/dist-packages (from rfpimp) (3.2.2)\n",
            "Requirement already satisfied: scipy in /usr/local/lib/python3.6/dist-packages (from stratx>=0.2->rfpimp) (1.4.1)\n",
            "Requirement already satisfied: numba in /usr/local/lib/python3.6/dist-packages (from stratx>=0.2->rfpimp) (0.48.0)\n",
            "Collecting colour\n",
            "  Downloading https://files.pythonhosted.org/packages/74/46/e81907704ab203206769dee1385dc77e1407576ff8f50a0681d0a6b541be/colour-0.1.5-py2.py3-none-any.whl\n",
            "Requirement already satisfied: python-dateutil>=2.6.1 in /usr/local/lib/python3.6/dist-packages (from pandas->rfpimp) (2.8.1)\n",
            "Requirement already satisfied: pytz>=2017.2 in /usr/local/lib/python3.6/dist-packages (from pandas->rfpimp) (2018.9)\n",
            "Requirement already satisfied: joblib>=0.11 in /usr/local/lib/python3.6/dist-packages (from scikit-learn->rfpimp) (0.16.0)\n",
            "Requirement already satisfied: kiwisolver>=1.0.1 in /usr/local/lib/python3.6/dist-packages (from matplotlib->rfpimp) (1.2.0)\n",
            "Requirement already satisfied: pyparsing!=2.0.4,!=2.1.2,!=2.1.6,>=2.0.1 in /usr/local/lib/python3.6/dist-packages (from matplotlib->rfpimp) (2.4.7)\n",
            "Requirement already satisfied: cycler>=0.10 in /usr/local/lib/python3.6/dist-packages (from matplotlib->rfpimp) (0.10.0)\n",
            "Requirement already satisfied: setuptools in /usr/local/lib/python3.6/dist-packages (from numba->stratx>=0.2->rfpimp) (49.2.0)\n",
            "Requirement already satisfied: llvmlite<0.32.0,>=0.31.0dev0 in /usr/local/lib/python3.6/dist-packages (from numba->stratx>=0.2->rfpimp) (0.31.0)\n",
            "Requirement already satisfied: six>=1.5 in /usr/local/lib/python3.6/dist-packages (from python-dateutil>=2.6.1->pandas->rfpimp) (1.15.0)\n",
            "Building wheels for collected packages: rfpimp, stratx\n",
            "  Building wheel for rfpimp (setup.py) ... \u001b[?25l\u001b[?25hdone\n",
            "  Created wheel for rfpimp: filename=rfpimp-1.3.5-cp36-none-any.whl size=10260 sha256=26ca35800e860ce2bb7d46ec679b19d9a2b86482fa6a3c9b9c90b3667c035e99\n",
            "  Stored in directory: /root/.cache/pip/wheels/2a/c8/bf/80f91224be00870f84a85aa1782cf6cd62c1289a173b66b8e9\n",
            "  Building wheel for stratx (setup.py) ... \u001b[?25l\u001b[?25hdone\n",
            "  Created wheel for stratx: filename=stratx-0.4.1-cp36-none-any.whl size=35079 sha256=bafebdf8681ec8e0d6a83d83c99762d85776a0fb31498965a539c58a12fd7eec\n",
            "  Stored in directory: /root/.cache/pip/wheels/ca/c1/e1/3e4c41e3420fe9c706dd4d8ef8d7fb5aba1b6a9547649a2d00\n",
            "Successfully built rfpimp stratx\n",
            "Installing collected packages: colour, stratx, rfpimp\n",
            "Successfully installed colour-0.1.5 rfpimp-1.3.5 stratx-0.4.1\n",
            "Collecting catboost\n",
            "\u001b[?25l  Downloading https://files.pythonhosted.org/packages/96/6c/6608210b29649267de52001b09e369777ee2a5cfe1c71fa75eba82a4f2dc/catboost-0.24-cp36-none-manylinux1_x86_64.whl (65.9MB)\n",
            "\u001b[K     |████████████████████████████████| 65.9MB 60kB/s \n",
            "\u001b[?25hRequirement already satisfied: graphviz in /usr/local/lib/python3.6/dist-packages (from catboost) (0.10.1)\n",
            "Requirement already satisfied: scipy in /usr/local/lib/python3.6/dist-packages (from catboost) (1.4.1)\n",
            "Requirement already satisfied: six in /usr/local/lib/python3.6/dist-packages (from catboost) (1.15.0)\n",
            "Requirement already satisfied: numpy>=1.16.0 in /usr/local/lib/python3.6/dist-packages (from catboost) (1.18.5)\n",
            "Requirement already satisfied: pandas>=0.24.0 in /usr/local/lib/python3.6/dist-packages (from catboost) (1.0.5)\n",
            "Requirement already satisfied: matplotlib in /usr/local/lib/python3.6/dist-packages (from catboost) (3.2.2)\n",
            "Requirement already satisfied: plotly in /usr/local/lib/python3.6/dist-packages (from catboost) (4.4.1)\n",
            "Requirement already satisfied: python-dateutil>=2.6.1 in /usr/local/lib/python3.6/dist-packages (from pandas>=0.24.0->catboost) (2.8.1)\n",
            "Requirement already satisfied: pytz>=2017.2 in /usr/local/lib/python3.6/dist-packages (from pandas>=0.24.0->catboost) (2018.9)\n",
            "Requirement already satisfied: cycler>=0.10 in /usr/local/lib/python3.6/dist-packages (from matplotlib->catboost) (0.10.0)\n",
            "Requirement already satisfied: pyparsing!=2.0.4,!=2.1.2,!=2.1.6,>=2.0.1 in /usr/local/lib/python3.6/dist-packages (from matplotlib->catboost) (2.4.7)\n",
            "Requirement already satisfied: kiwisolver>=1.0.1 in /usr/local/lib/python3.6/dist-packages (from matplotlib->catboost) (1.2.0)\n",
            "Requirement already satisfied: retrying>=1.3.3 in /usr/local/lib/python3.6/dist-packages (from plotly->catboost) (1.3.3)\n",
            "Installing collected packages: catboost\n",
            "Successfully installed catboost-0.24\n"
          ],
          "name": "stdout"
        }
      ]
    },
    {
      "cell_type": "code",
      "metadata": {
        "id": "_PXjG7u5YJz3",
        "colab_type": "code",
        "colab": {}
      },
      "source": [
        "# data analysis and wrangling\n",
        "import pandas as pd\n",
        "import numpy as np\n",
        "import random as rnd\n",
        "\n",
        "# visualization\n",
        "import seaborn as sns\n",
        "import matplotlib.pyplot as plt\n",
        "%matplotlib inline\n",
        "\n",
        "# machine learning\n",
        "\n",
        "from sklearn.model_selection import KFold, StratifiedKFold\n",
        "from sklearn.metrics import accuracy_score\n",
        "from xgboost import XGBClassifier\n",
        "from catboost import CatBoostClassifier\n",
        "from rfpimp import *\n",
        "from sklearn import svm\n",
        "import xgboost as xgb\n",
        "import lightgbm as lgb\n",
        "from mlxtend.classifier import StackingClassifier\n",
        "\n",
        "from sklearn.model_selection import cross_val_score\n",
        "from sklearn.model_selection import KFold\n",
        "from sklearn.metrics import confusion_matrix\n",
        "from sklearn.model_selection import train_test_split\n",
        "from sklearn.model_selection import GridSearchCV\n",
        "from sklearn.svm import SVC, LinearSVC\n",
        "from sklearn.metrics import roc_auc_score\n",
        "from sklearn.metrics import accuracy_score\n",
        "from sklearn.metrics import log_loss\n",
        "from sklearn.metrics import classification_report\n",
        "import seaborn as sns\n",
        "from collections import Counter\n",
        "from sklearn.preprocessing import LabelEncoder"
      ],
      "execution_count": null,
      "outputs": []
    },
    {
      "cell_type": "code",
      "metadata": {
        "id": "2Y1GEGekYe4J",
        "colab_type": "code",
        "colab": {
          "base_uri": "https://localhost:8080/",
          "height": 204
        },
        "outputId": "1934f136-08a4-4a27-d13c-9320f6e2ad0b"
      },
      "source": [
        "train=pd.read_csv('/content/Train_aBjfeNk.csv')\n",
        "train.head()"
      ],
      "execution_count": null,
      "outputs": [
        {
          "output_type": "execute_result",
          "data": {
            "text/html": [
              "<div>\n",
              "<style scoped>\n",
              "    .dataframe tbody tr th:only-of-type {\n",
              "        vertical-align: middle;\n",
              "    }\n",
              "\n",
              "    .dataframe tbody tr th {\n",
              "        vertical-align: top;\n",
              "    }\n",
              "\n",
              "    .dataframe thead th {\n",
              "        text-align: right;\n",
              "    }\n",
              "</style>\n",
              "<table border=\"1\" class=\"dataframe\">\n",
              "  <thead>\n",
              "    <tr style=\"text-align: right;\">\n",
              "      <th></th>\n",
              "      <th>ID</th>\n",
              "      <th>Gender</th>\n",
              "      <th>Ever_Married</th>\n",
              "      <th>Age</th>\n",
              "      <th>Graduated</th>\n",
              "      <th>Profession</th>\n",
              "      <th>Work_Experience</th>\n",
              "      <th>Spending_Score</th>\n",
              "      <th>Family_Size</th>\n",
              "      <th>Var_1</th>\n",
              "      <th>Segmentation</th>\n",
              "    </tr>\n",
              "  </thead>\n",
              "  <tbody>\n",
              "    <tr>\n",
              "      <th>0</th>\n",
              "      <td>462809</td>\n",
              "      <td>Male</td>\n",
              "      <td>No</td>\n",
              "      <td>22</td>\n",
              "      <td>No</td>\n",
              "      <td>Healthcare</td>\n",
              "      <td>1.0</td>\n",
              "      <td>Low</td>\n",
              "      <td>4.0</td>\n",
              "      <td>Cat_4</td>\n",
              "      <td>D</td>\n",
              "    </tr>\n",
              "    <tr>\n",
              "      <th>1</th>\n",
              "      <td>462643</td>\n",
              "      <td>Female</td>\n",
              "      <td>Yes</td>\n",
              "      <td>38</td>\n",
              "      <td>Yes</td>\n",
              "      <td>Engineer</td>\n",
              "      <td>NaN</td>\n",
              "      <td>Average</td>\n",
              "      <td>3.0</td>\n",
              "      <td>Cat_4</td>\n",
              "      <td>A</td>\n",
              "    </tr>\n",
              "    <tr>\n",
              "      <th>2</th>\n",
              "      <td>466315</td>\n",
              "      <td>Female</td>\n",
              "      <td>Yes</td>\n",
              "      <td>67</td>\n",
              "      <td>Yes</td>\n",
              "      <td>Engineer</td>\n",
              "      <td>1.0</td>\n",
              "      <td>Low</td>\n",
              "      <td>1.0</td>\n",
              "      <td>Cat_6</td>\n",
              "      <td>B</td>\n",
              "    </tr>\n",
              "    <tr>\n",
              "      <th>3</th>\n",
              "      <td>461735</td>\n",
              "      <td>Male</td>\n",
              "      <td>Yes</td>\n",
              "      <td>67</td>\n",
              "      <td>Yes</td>\n",
              "      <td>Lawyer</td>\n",
              "      <td>0.0</td>\n",
              "      <td>High</td>\n",
              "      <td>2.0</td>\n",
              "      <td>Cat_6</td>\n",
              "      <td>B</td>\n",
              "    </tr>\n",
              "    <tr>\n",
              "      <th>4</th>\n",
              "      <td>462669</td>\n",
              "      <td>Female</td>\n",
              "      <td>Yes</td>\n",
              "      <td>40</td>\n",
              "      <td>Yes</td>\n",
              "      <td>Entertainment</td>\n",
              "      <td>NaN</td>\n",
              "      <td>High</td>\n",
              "      <td>6.0</td>\n",
              "      <td>Cat_6</td>\n",
              "      <td>A</td>\n",
              "    </tr>\n",
              "  </tbody>\n",
              "</table>\n",
              "</div>"
            ],
            "text/plain": [
              "       ID  Gender Ever_Married  ...  Family_Size  Var_1 Segmentation\n",
              "0  462809    Male           No  ...          4.0  Cat_4            D\n",
              "1  462643  Female          Yes  ...          3.0  Cat_4            A\n",
              "2  466315  Female          Yes  ...          1.0  Cat_6            B\n",
              "3  461735    Male          Yes  ...          2.0  Cat_6            B\n",
              "4  462669  Female          Yes  ...          6.0  Cat_6            A\n",
              "\n",
              "[5 rows x 11 columns]"
            ]
          },
          "metadata": {
            "tags": []
          },
          "execution_count": 47
        }
      ]
    },
    {
      "cell_type": "code",
      "metadata": {
        "id": "kJwl3U-UYnfZ",
        "colab_type": "code",
        "colab": {
          "base_uri": "https://localhost:8080/",
          "height": 204
        },
        "outputId": "bc7215e4-2113-4a10-997e-3ef28fae0d25"
      },
      "source": [
        "test=pd.read_csv('/content/Test_LqhgPWU.csv')\n",
        "test.head()"
      ],
      "execution_count": null,
      "outputs": [
        {
          "output_type": "execute_result",
          "data": {
            "text/html": [
              "<div>\n",
              "<style scoped>\n",
              "    .dataframe tbody tr th:only-of-type {\n",
              "        vertical-align: middle;\n",
              "    }\n",
              "\n",
              "    .dataframe tbody tr th {\n",
              "        vertical-align: top;\n",
              "    }\n",
              "\n",
              "    .dataframe thead th {\n",
              "        text-align: right;\n",
              "    }\n",
              "</style>\n",
              "<table border=\"1\" class=\"dataframe\">\n",
              "  <thead>\n",
              "    <tr style=\"text-align: right;\">\n",
              "      <th></th>\n",
              "      <th>ID</th>\n",
              "      <th>Gender</th>\n",
              "      <th>Ever_Married</th>\n",
              "      <th>Age</th>\n",
              "      <th>Graduated</th>\n",
              "      <th>Profession</th>\n",
              "      <th>Work_Experience</th>\n",
              "      <th>Spending_Score</th>\n",
              "      <th>Family_Size</th>\n",
              "      <th>Var_1</th>\n",
              "    </tr>\n",
              "  </thead>\n",
              "  <tbody>\n",
              "    <tr>\n",
              "      <th>0</th>\n",
              "      <td>458989</td>\n",
              "      <td>Female</td>\n",
              "      <td>Yes</td>\n",
              "      <td>36</td>\n",
              "      <td>Yes</td>\n",
              "      <td>Engineer</td>\n",
              "      <td>0.0</td>\n",
              "      <td>Low</td>\n",
              "      <td>1.0</td>\n",
              "      <td>Cat_6</td>\n",
              "    </tr>\n",
              "    <tr>\n",
              "      <th>1</th>\n",
              "      <td>458994</td>\n",
              "      <td>Male</td>\n",
              "      <td>Yes</td>\n",
              "      <td>37</td>\n",
              "      <td>Yes</td>\n",
              "      <td>Healthcare</td>\n",
              "      <td>8.0</td>\n",
              "      <td>Average</td>\n",
              "      <td>4.0</td>\n",
              "      <td>Cat_6</td>\n",
              "    </tr>\n",
              "    <tr>\n",
              "      <th>2</th>\n",
              "      <td>458996</td>\n",
              "      <td>Female</td>\n",
              "      <td>Yes</td>\n",
              "      <td>69</td>\n",
              "      <td>No</td>\n",
              "      <td>NaN</td>\n",
              "      <td>0.0</td>\n",
              "      <td>Low</td>\n",
              "      <td>1.0</td>\n",
              "      <td>Cat_6</td>\n",
              "    </tr>\n",
              "    <tr>\n",
              "      <th>3</th>\n",
              "      <td>459000</td>\n",
              "      <td>Male</td>\n",
              "      <td>Yes</td>\n",
              "      <td>59</td>\n",
              "      <td>No</td>\n",
              "      <td>Executive</td>\n",
              "      <td>11.0</td>\n",
              "      <td>High</td>\n",
              "      <td>2.0</td>\n",
              "      <td>Cat_6</td>\n",
              "    </tr>\n",
              "    <tr>\n",
              "      <th>4</th>\n",
              "      <td>459001</td>\n",
              "      <td>Female</td>\n",
              "      <td>No</td>\n",
              "      <td>19</td>\n",
              "      <td>No</td>\n",
              "      <td>Marketing</td>\n",
              "      <td>NaN</td>\n",
              "      <td>Low</td>\n",
              "      <td>4.0</td>\n",
              "      <td>Cat_6</td>\n",
              "    </tr>\n",
              "  </tbody>\n",
              "</table>\n",
              "</div>"
            ],
            "text/plain": [
              "       ID  Gender Ever_Married  ...  Spending_Score Family_Size  Var_1\n",
              "0  458989  Female          Yes  ...             Low         1.0  Cat_6\n",
              "1  458994    Male          Yes  ...         Average         4.0  Cat_6\n",
              "2  458996  Female          Yes  ...             Low         1.0  Cat_6\n",
              "3  459000    Male          Yes  ...            High         2.0  Cat_6\n",
              "4  459001  Female           No  ...             Low         4.0  Cat_6\n",
              "\n",
              "[5 rows x 10 columns]"
            ]
          },
          "metadata": {
            "tags": []
          },
          "execution_count": 48
        }
      ]
    },
    {
      "cell_type": "code",
      "metadata": {
        "id": "ln0xgRepYx4m",
        "colab_type": "code",
        "colab": {
          "base_uri": "https://localhost:8080/",
          "height": 204
        },
        "outputId": "abdb7d7e-9c47-44be-a6b3-84c506b62369"
      },
      "source": [
        "sub=pd.read_csv('/content/sample_submission_wyi0h0z.csv')\n",
        "sub.head()"
      ],
      "execution_count": null,
      "outputs": [
        {
          "output_type": "execute_result",
          "data": {
            "text/html": [
              "<div>\n",
              "<style scoped>\n",
              "    .dataframe tbody tr th:only-of-type {\n",
              "        vertical-align: middle;\n",
              "    }\n",
              "\n",
              "    .dataframe tbody tr th {\n",
              "        vertical-align: top;\n",
              "    }\n",
              "\n",
              "    .dataframe thead th {\n",
              "        text-align: right;\n",
              "    }\n",
              "</style>\n",
              "<table border=\"1\" class=\"dataframe\">\n",
              "  <thead>\n",
              "    <tr style=\"text-align: right;\">\n",
              "      <th></th>\n",
              "      <th>ID</th>\n",
              "      <th>Segmentation</th>\n",
              "    </tr>\n",
              "  </thead>\n",
              "  <tbody>\n",
              "    <tr>\n",
              "      <th>0</th>\n",
              "      <td>458989</td>\n",
              "      <td>A</td>\n",
              "    </tr>\n",
              "    <tr>\n",
              "      <th>1</th>\n",
              "      <td>458994</td>\n",
              "      <td>A</td>\n",
              "    </tr>\n",
              "    <tr>\n",
              "      <th>2</th>\n",
              "      <td>458996</td>\n",
              "      <td>A</td>\n",
              "    </tr>\n",
              "    <tr>\n",
              "      <th>3</th>\n",
              "      <td>459000</td>\n",
              "      <td>A</td>\n",
              "    </tr>\n",
              "    <tr>\n",
              "      <th>4</th>\n",
              "      <td>459001</td>\n",
              "      <td>A</td>\n",
              "    </tr>\n",
              "  </tbody>\n",
              "</table>\n",
              "</div>"
            ],
            "text/plain": [
              "       ID Segmentation\n",
              "0  458989            A\n",
              "1  458994            A\n",
              "2  458996            A\n",
              "3  459000            A\n",
              "4  459001            A"
            ]
          },
          "metadata": {
            "tags": []
          },
          "execution_count": 49
        }
      ]
    },
    {
      "cell_type": "code",
      "metadata": {
        "id": "1TO-wie6ZQKb",
        "colab_type": "code",
        "colab": {
          "base_uri": "https://localhost:8080/",
          "height": 204
        },
        "outputId": "b7d8c7e4-b549-4e8b-d9e4-11b9ee47d70b"
      },
      "source": [
        "train['source']='train'\n",
        "test['source']='test'\n",
        "data=pd.concat([train,test],ignore_index=True,sort=False)\n",
        "data.head()"
      ],
      "execution_count": null,
      "outputs": [
        {
          "output_type": "execute_result",
          "data": {
            "text/html": [
              "<div>\n",
              "<style scoped>\n",
              "    .dataframe tbody tr th:only-of-type {\n",
              "        vertical-align: middle;\n",
              "    }\n",
              "\n",
              "    .dataframe tbody tr th {\n",
              "        vertical-align: top;\n",
              "    }\n",
              "\n",
              "    .dataframe thead th {\n",
              "        text-align: right;\n",
              "    }\n",
              "</style>\n",
              "<table border=\"1\" class=\"dataframe\">\n",
              "  <thead>\n",
              "    <tr style=\"text-align: right;\">\n",
              "      <th></th>\n",
              "      <th>ID</th>\n",
              "      <th>Gender</th>\n",
              "      <th>Ever_Married</th>\n",
              "      <th>Age</th>\n",
              "      <th>Graduated</th>\n",
              "      <th>Profession</th>\n",
              "      <th>Work_Experience</th>\n",
              "      <th>Spending_Score</th>\n",
              "      <th>Family_Size</th>\n",
              "      <th>Var_1</th>\n",
              "      <th>Segmentation</th>\n",
              "      <th>source</th>\n",
              "    </tr>\n",
              "  </thead>\n",
              "  <tbody>\n",
              "    <tr>\n",
              "      <th>0</th>\n",
              "      <td>462809</td>\n",
              "      <td>Male</td>\n",
              "      <td>No</td>\n",
              "      <td>22</td>\n",
              "      <td>No</td>\n",
              "      <td>Healthcare</td>\n",
              "      <td>1.0</td>\n",
              "      <td>Low</td>\n",
              "      <td>4.0</td>\n",
              "      <td>Cat_4</td>\n",
              "      <td>D</td>\n",
              "      <td>train</td>\n",
              "    </tr>\n",
              "    <tr>\n",
              "      <th>1</th>\n",
              "      <td>462643</td>\n",
              "      <td>Female</td>\n",
              "      <td>Yes</td>\n",
              "      <td>38</td>\n",
              "      <td>Yes</td>\n",
              "      <td>Engineer</td>\n",
              "      <td>NaN</td>\n",
              "      <td>Average</td>\n",
              "      <td>3.0</td>\n",
              "      <td>Cat_4</td>\n",
              "      <td>A</td>\n",
              "      <td>train</td>\n",
              "    </tr>\n",
              "    <tr>\n",
              "      <th>2</th>\n",
              "      <td>466315</td>\n",
              "      <td>Female</td>\n",
              "      <td>Yes</td>\n",
              "      <td>67</td>\n",
              "      <td>Yes</td>\n",
              "      <td>Engineer</td>\n",
              "      <td>1.0</td>\n",
              "      <td>Low</td>\n",
              "      <td>1.0</td>\n",
              "      <td>Cat_6</td>\n",
              "      <td>B</td>\n",
              "      <td>train</td>\n",
              "    </tr>\n",
              "    <tr>\n",
              "      <th>3</th>\n",
              "      <td>461735</td>\n",
              "      <td>Male</td>\n",
              "      <td>Yes</td>\n",
              "      <td>67</td>\n",
              "      <td>Yes</td>\n",
              "      <td>Lawyer</td>\n",
              "      <td>0.0</td>\n",
              "      <td>High</td>\n",
              "      <td>2.0</td>\n",
              "      <td>Cat_6</td>\n",
              "      <td>B</td>\n",
              "      <td>train</td>\n",
              "    </tr>\n",
              "    <tr>\n",
              "      <th>4</th>\n",
              "      <td>462669</td>\n",
              "      <td>Female</td>\n",
              "      <td>Yes</td>\n",
              "      <td>40</td>\n",
              "      <td>Yes</td>\n",
              "      <td>Entertainment</td>\n",
              "      <td>NaN</td>\n",
              "      <td>High</td>\n",
              "      <td>6.0</td>\n",
              "      <td>Cat_6</td>\n",
              "      <td>A</td>\n",
              "      <td>train</td>\n",
              "    </tr>\n",
              "  </tbody>\n",
              "</table>\n",
              "</div>"
            ],
            "text/plain": [
              "       ID  Gender Ever_Married  Age  ... Family_Size  Var_1  Segmentation source\n",
              "0  462809    Male           No   22  ...         4.0  Cat_4             D  train\n",
              "1  462643  Female          Yes   38  ...         3.0  Cat_4             A  train\n",
              "2  466315  Female          Yes   67  ...         1.0  Cat_6             B  train\n",
              "3  461735    Male          Yes   67  ...         2.0  Cat_6             B  train\n",
              "4  462669  Female          Yes   40  ...         6.0  Cat_6             A  train\n",
              "\n",
              "[5 rows x 12 columns]"
            ]
          },
          "metadata": {
            "tags": []
          },
          "execution_count": 50
        }
      ]
    },
    {
      "cell_type": "code",
      "metadata": {
        "id": "OjQSoXWPZmlK",
        "colab_type": "code",
        "colab": {
          "base_uri": "https://localhost:8080/",
          "height": 238
        },
        "outputId": "6d42a630-6cd6-42d6-f58a-8713c33844e8"
      },
      "source": [
        "data.isnull().sum()"
      ],
      "execution_count": null,
      "outputs": [
        {
          "output_type": "execute_result",
          "data": {
            "text/plain": [
              "ID                    0\n",
              "Gender                0\n",
              "Ever_Married        190\n",
              "Age                   0\n",
              "Graduated           102\n",
              "Profession          162\n",
              "Work_Experience    1098\n",
              "Spending_Score        0\n",
              "Family_Size         448\n",
              "Var_1               108\n",
              "Segmentation       2627\n",
              "source                0\n",
              "dtype: int64"
            ]
          },
          "metadata": {
            "tags": []
          },
          "execution_count": 6
        }
      ]
    },
    {
      "cell_type": "code",
      "metadata": {
        "id": "Pe7Xh26fhwyg",
        "colab_type": "code",
        "colab": {}
      },
      "source": [
        "missing_impute=-999"
      ],
      "execution_count": null,
      "outputs": []
    },
    {
      "cell_type": "code",
      "metadata": {
        "id": "1J7O2YgHhgpu",
        "colab_type": "code",
        "colab": {}
      },
      "source": [
        "data['Work_Experience'] = data['Work_Experience'].apply(lambda x: missing_impute if pd.isna(x) else x)\n",
        "data['Family_Size'] = data['Family_Size'].apply(lambda x: missing_impute if pd.isna(x) else x)"
      ],
      "execution_count": null,
      "outputs": []
    },
    {
      "cell_type": "code",
      "metadata": {
        "id": "wNET_yhCZ7wC",
        "colab_type": "code",
        "colab": {
          "base_uri": "https://localhost:8080/",
          "height": 340
        },
        "outputId": "52056fb0-6e9f-486e-83e5-76fe3a43a27f"
      },
      "source": [
        "data.info()"
      ],
      "execution_count": null,
      "outputs": [
        {
          "output_type": "stream",
          "text": [
            "<class 'pandas.core.frame.DataFrame'>\n",
            "RangeIndex: 10695 entries, 0 to 10694\n",
            "Data columns (total 12 columns):\n",
            " #   Column           Non-Null Count  Dtype  \n",
            "---  ------           --------------  -----  \n",
            " 0   ID               10695 non-null  int64  \n",
            " 1   Gender           10695 non-null  object \n",
            " 2   Ever_Married     10505 non-null  object \n",
            " 3   Age              10695 non-null  int64  \n",
            " 4   Graduated        10593 non-null  object \n",
            " 5   Profession       10533 non-null  object \n",
            " 6   Work_Experience  9597 non-null   float64\n",
            " 7   Spending_Score   10695 non-null  object \n",
            " 8   Family_Size      10247 non-null  float64\n",
            " 9   Var_1            10587 non-null  object \n",
            " 10  Segmentation     8068 non-null   object \n",
            " 11  source           10695 non-null  object \n",
            "dtypes: float64(2), int64(2), object(8)\n",
            "memory usage: 1002.8+ KB\n"
          ],
          "name": "stdout"
        }
      ]
    },
    {
      "cell_type": "code",
      "metadata": {
        "id": "zbWyL6ObZuMT",
        "colab_type": "code",
        "colab": {
          "base_uri": "https://localhost:8080/",
          "height": 340
        },
        "outputId": "d18d4920-08c7-441e-82ed-2c19e01f4dd8"
      },
      "source": [
        "train.info()"
      ],
      "execution_count": null,
      "outputs": [
        {
          "output_type": "stream",
          "text": [
            "<class 'pandas.core.frame.DataFrame'>\n",
            "RangeIndex: 8068 entries, 0 to 8067\n",
            "Data columns (total 12 columns):\n",
            " #   Column           Non-Null Count  Dtype  \n",
            "---  ------           --------------  -----  \n",
            " 0   ID               8068 non-null   int64  \n",
            " 1   Gender           8068 non-null   object \n",
            " 2   Ever_Married     7928 non-null   object \n",
            " 3   Age              8068 non-null   int64  \n",
            " 4   Graduated        7990 non-null   object \n",
            " 5   Profession       7944 non-null   object \n",
            " 6   Work_Experience  7239 non-null   float64\n",
            " 7   Spending_Score   8068 non-null   object \n",
            " 8   Family_Size      7733 non-null   float64\n",
            " 9   Var_1            7992 non-null   object \n",
            " 10  Segmentation     8068 non-null   object \n",
            " 11  source           8068 non-null   object \n",
            "dtypes: float64(2), int64(2), object(8)\n",
            "memory usage: 756.5+ KB\n"
          ],
          "name": "stdout"
        }
      ]
    },
    {
      "cell_type": "code",
      "metadata": {
        "id": "zZ8AduzvZzeM",
        "colab_type": "code",
        "colab": {
          "base_uri": "https://localhost:8080/",
          "height": 323
        },
        "outputId": "f9af1471-dcf0-4bd4-8201-a572cd4a6215"
      },
      "source": [
        "test.info()"
      ],
      "execution_count": null,
      "outputs": [
        {
          "output_type": "stream",
          "text": [
            "<class 'pandas.core.frame.DataFrame'>\n",
            "RangeIndex: 2627 entries, 0 to 2626\n",
            "Data columns (total 11 columns):\n",
            " #   Column           Non-Null Count  Dtype  \n",
            "---  ------           --------------  -----  \n",
            " 0   ID               2627 non-null   int64  \n",
            " 1   Gender           2627 non-null   object \n",
            " 2   Ever_Married     2577 non-null   object \n",
            " 3   Age              2627 non-null   int64  \n",
            " 4   Graduated        2603 non-null   object \n",
            " 5   Profession       2589 non-null   object \n",
            " 6   Work_Experience  2358 non-null   float64\n",
            " 7   Spending_Score   2627 non-null   object \n",
            " 8   Family_Size      2514 non-null   float64\n",
            " 9   Var_1            2595 non-null   object \n",
            " 10  source           2627 non-null   object \n",
            "dtypes: float64(2), int64(2), object(7)\n",
            "memory usage: 225.9+ KB\n"
          ],
          "name": "stdout"
        }
      ]
    },
    {
      "cell_type": "code",
      "metadata": {
        "id": "21mz5nlvZ2JN",
        "colab_type": "code",
        "colab": {
          "base_uri": "https://localhost:8080/",
          "height": 1000
        },
        "outputId": "72141156-94b3-42db-8769-3c6c99570f78"
      },
      "source": [
        "# Let's check the frequency distribution of the feature\n",
        "for col in train:\n",
        "  freq=train[col].value_counts()\n",
        "  print('\\nThe frequency distribution of '+col+ \":\")\n",
        "  print(freq)  "
      ],
      "execution_count": null,
      "outputs": [
        {
          "output_type": "stream",
          "text": [
            "\n",
            "The frequency distribution of ID:\n",
            "460799    1\n",
            "466217    1\n",
            "460042    1\n",
            "462091    1\n",
            "464144    1\n",
            "         ..\n",
            "463511    1\n",
            "467609    1\n",
            "461468    1\n",
            "459421    1\n",
            "460801    1\n",
            "Name: ID, Length: 8068, dtype: int64\n",
            "\n",
            "The frequency distribution of Gender:\n",
            "Male      4417\n",
            "Female    3651\n",
            "Name: Gender, dtype: int64\n",
            "\n",
            "The frequency distribution of Ever_Married:\n",
            "Yes    4643\n",
            "No     3285\n",
            "Name: Ever_Married, dtype: int64\n",
            "\n",
            "The frequency distribution of Age:\n",
            "35    250\n",
            "37    234\n",
            "33    232\n",
            "42    232\n",
            "27    229\n",
            "     ... \n",
            "78     29\n",
            "87     28\n",
            "76     27\n",
            "80     24\n",
            "85     22\n",
            "Name: Age, Length: 67, dtype: int64\n",
            "\n",
            "The frequency distribution of Graduated:\n",
            "Yes    4968\n",
            "No     3022\n",
            "Name: Graduated, dtype: int64\n",
            "\n",
            "The frequency distribution of Profession:\n",
            "Artist           2516\n",
            "Healthcare       1332\n",
            "Entertainment     949\n",
            "Engineer          699\n",
            "Doctor            688\n",
            "Lawyer            623\n",
            "Executive         599\n",
            "Marketing         292\n",
            "Homemaker         246\n",
            "Name: Profession, dtype: int64\n",
            "\n",
            "The frequency distribution of Work_Experience:\n",
            "1.0     2354\n",
            "0.0     2318\n",
            "9.0      474\n",
            "8.0      463\n",
            "2.0      286\n",
            "3.0      255\n",
            "4.0      253\n",
            "6.0      204\n",
            "7.0      196\n",
            "5.0      194\n",
            "10.0      53\n",
            "11.0      50\n",
            "12.0      48\n",
            "13.0      46\n",
            "14.0      45\n",
            "Name: Work_Experience, dtype: int64\n",
            "\n",
            "The frequency distribution of Spending_Score:\n",
            "Low        4878\n",
            "Average    1974\n",
            "High       1216\n",
            "Name: Spending_Score, dtype: int64\n",
            "\n",
            "The frequency distribution of Family_Size:\n",
            "2.0    2390\n",
            "3.0    1497\n",
            "1.0    1453\n",
            "4.0    1379\n",
            "5.0     612\n",
            "6.0     212\n",
            "7.0      96\n",
            "8.0      50\n",
            "9.0      44\n",
            "Name: Family_Size, dtype: int64\n",
            "\n",
            "The frequency distribution of Var_1:\n",
            "Cat_6    5238\n",
            "Cat_4    1089\n",
            "Cat_3     822\n",
            "Cat_2     422\n",
            "Cat_7     203\n",
            "Cat_1     133\n",
            "Cat_5      85\n",
            "Name: Var_1, dtype: int64\n",
            "\n",
            "The frequency distribution of Segmentation:\n",
            "D    2268\n",
            "A    1972\n",
            "C    1970\n",
            "B    1858\n",
            "Name: Segmentation, dtype: int64\n",
            "\n",
            "The frequency distribution of source:\n",
            "train    8068\n",
            "Name: source, dtype: int64\n"
          ],
          "name": "stdout"
        }
      ]
    },
    {
      "cell_type": "code",
      "metadata": {
        "id": "MKj7s8uXaP0c",
        "colab_type": "code",
        "colab": {
          "base_uri": "https://localhost:8080/",
          "height": 85
        },
        "outputId": "a27fd075-c596-48ee-fee6-9811d317c099"
      },
      "source": [
        "data.columns"
      ],
      "execution_count": null,
      "outputs": [
        {
          "output_type": "execute_result",
          "data": {
            "text/plain": [
              "Index(['ID', 'Gender', 'Ever_Married', 'Age', 'Graduated', 'Profession',\n",
              "       'Work_Experience', 'Spending_Score', 'Family_Size', 'Var_1',\n",
              "       'Segmentation', 'source'],\n",
              "      dtype='object')"
            ]
          },
          "metadata": {
            "tags": []
          },
          "execution_count": 14
        }
      ]
    },
    {
      "cell_type": "markdown",
      "metadata": {
        "id": "8fbyPyBfaljT",
        "colab_type": "text"
      },
      "source": [
        "**EDA**"
      ]
    },
    {
      "cell_type": "code",
      "metadata": {
        "id": "WwyFLS0Nany1",
        "colab_type": "code",
        "colab": {
          "base_uri": "https://localhost:8080/",
          "height": 153
        },
        "outputId": "75c0353e-cdda-4006-e372-2e2e53e26edc"
      },
      "source": [
        "#Now lets see the percentage of segmentation\n",
        "A=train[train['Segmentation']=='A']\n",
        "B=train[train['Segmentation']=='B']\n",
        "C=train[train['Segmentation']=='C']\n",
        "D=train[train['Segmentation']=='D']\n",
        "Ap=(len(A)/len(train))*100\n",
        "print('A IS')\n",
        "print(Ap)\n",
        "Bp=(len(B)/len(train))*100\n",
        "print('B IS')\n",
        "print(Bp)\n",
        "Cp=(len(C)/len(train))*100\n",
        "print('C IS')\n",
        "print(Cp)\n",
        "Dp=(len(D)/len(train))*100\n",
        "print('D IS')\n",
        "print(Dp)"
      ],
      "execution_count": null,
      "outputs": [
        {
          "output_type": "stream",
          "text": [
            "A IS\n",
            "24.442240951908776\n",
            "B IS\n",
            "23.029251363411007\n",
            "C IS\n",
            "24.4174516608825\n",
            "D IS\n",
            "28.11105602379772\n"
          ],
          "name": "stdout"
        }
      ]
    },
    {
      "cell_type": "code",
      "metadata": {
        "id": "_DHhtpQAcvzN",
        "colab_type": "code",
        "colab": {
          "base_uri": "https://localhost:8080/",
          "height": 142
        },
        "outputId": "f19976cf-2970-4f59-8426-2c58834649ba"
      },
      "source": [
        "pd.crosstab(train['Gender'],train['Segmentation'],normalize='index')"
      ],
      "execution_count": null,
      "outputs": [
        {
          "output_type": "execute_result",
          "data": {
            "text/html": [
              "<div>\n",
              "<style scoped>\n",
              "    .dataframe tbody tr th:only-of-type {\n",
              "        vertical-align: middle;\n",
              "    }\n",
              "\n",
              "    .dataframe tbody tr th {\n",
              "        vertical-align: top;\n",
              "    }\n",
              "\n",
              "    .dataframe thead th {\n",
              "        text-align: right;\n",
              "    }\n",
              "</style>\n",
              "<table border=\"1\" class=\"dataframe\">\n",
              "  <thead>\n",
              "    <tr style=\"text-align: right;\">\n",
              "      <th>Segmentation</th>\n",
              "      <th>A</th>\n",
              "      <th>B</th>\n",
              "      <th>C</th>\n",
              "      <th>D</th>\n",
              "    </tr>\n",
              "    <tr>\n",
              "      <th>Gender</th>\n",
              "      <th></th>\n",
              "      <th></th>\n",
              "      <th></th>\n",
              "      <th></th>\n",
              "    </tr>\n",
              "  </thead>\n",
              "  <tbody>\n",
              "    <tr>\n",
              "      <th>Female</th>\n",
              "      <td>0.248973</td>\n",
              "      <td>0.235826</td>\n",
              "      <td>0.252534</td>\n",
              "      <td>0.262668</td>\n",
              "    </tr>\n",
              "    <tr>\n",
              "      <th>Male</th>\n",
              "      <td>0.240661</td>\n",
              "      <td>0.225719</td>\n",
              "      <td>0.237265</td>\n",
              "      <td>0.296355</td>\n",
              "    </tr>\n",
              "  </tbody>\n",
              "</table>\n",
              "</div>"
            ],
            "text/plain": [
              "Segmentation         A         B         C         D\n",
              "Gender                                              \n",
              "Female        0.248973  0.235826  0.252534  0.262668\n",
              "Male          0.240661  0.225719  0.237265  0.296355"
            ]
          },
          "metadata": {
            "tags": []
          },
          "execution_count": 16
        }
      ]
    },
    {
      "cell_type": "code",
      "metadata": {
        "id": "diiM-l6HdAXa",
        "colab_type": "code",
        "colab": {
          "base_uri": "https://localhost:8080/",
          "height": 142
        },
        "outputId": "7b1ed178-9173-4f48-f4fc-7de4691dca7a"
      },
      "source": [
        "pd.crosstab(train['Ever_Married'],train['Segmentation'],normalize='index')"
      ],
      "execution_count": null,
      "outputs": [
        {
          "output_type": "execute_result",
          "data": {
            "text/html": [
              "<div>\n",
              "<style scoped>\n",
              "    .dataframe tbody tr th:only-of-type {\n",
              "        vertical-align: middle;\n",
              "    }\n",
              "\n",
              "    .dataframe tbody tr th {\n",
              "        vertical-align: top;\n",
              "    }\n",
              "\n",
              "    .dataframe thead th {\n",
              "        text-align: right;\n",
              "    }\n",
              "</style>\n",
              "<table border=\"1\" class=\"dataframe\">\n",
              "  <thead>\n",
              "    <tr style=\"text-align: right;\">\n",
              "      <th>Segmentation</th>\n",
              "      <th>A</th>\n",
              "      <th>B</th>\n",
              "      <th>C</th>\n",
              "      <th>D</th>\n",
              "    </tr>\n",
              "    <tr>\n",
              "      <th>Ever_Married</th>\n",
              "      <th></th>\n",
              "      <th></th>\n",
              "      <th></th>\n",
              "      <th></th>\n",
              "    </tr>\n",
              "  </thead>\n",
              "  <tbody>\n",
              "    <tr>\n",
              "      <th>No</th>\n",
              "      <td>0.243836</td>\n",
              "      <td>0.145814</td>\n",
              "      <td>0.121157</td>\n",
              "      <td>0.489193</td>\n",
              "    </tr>\n",
              "    <tr>\n",
              "      <th>Yes</th>\n",
              "      <td>0.244885</td>\n",
              "      <td>0.290330</td>\n",
              "      <td>0.333621</td>\n",
              "      <td>0.131165</td>\n",
              "    </tr>\n",
              "  </tbody>\n",
              "</table>\n",
              "</div>"
            ],
            "text/plain": [
              "Segmentation         A         B         C         D\n",
              "Ever_Married                                        \n",
              "No            0.243836  0.145814  0.121157  0.489193\n",
              "Yes           0.244885  0.290330  0.333621  0.131165"
            ]
          },
          "metadata": {
            "tags": []
          },
          "execution_count": 17
        }
      ]
    },
    {
      "cell_type": "code",
      "metadata": {
        "id": "uNBzTgU2dRDF",
        "colab_type": "code",
        "colab": {
          "base_uri": "https://localhost:8080/",
          "height": 282
        },
        "outputId": "a88aea98-26c9-43ee-8e67-2599d32b5bf9"
      },
      "source": [
        "sns.distplot(A['Age'].dropna().values, bins=range(0, 81, 1), kde=False, color='blue')"
      ],
      "execution_count": null,
      "outputs": [
        {
          "output_type": "execute_result",
          "data": {
            "text/plain": [
              "<matplotlib.axes._subplots.AxesSubplot at 0x7f4a6dac5518>"
            ]
          },
          "metadata": {
            "tags": []
          },
          "execution_count": 19
        },
        {
          "output_type": "display_data",
          "data": {
            "image/png": "[encoded data removed]",
            "text/plain": [
              "<Figure size 432x288 with 1 Axes>"
            ]
          },
          "metadata": {
            "tags": [],
            "needs_background": "light"
          }
        }
      ]
    },
    {
      "cell_type": "code",
      "metadata": {
        "id": "FvVNK4Cjdl-Y",
        "colab_type": "code",
        "colab": {
          "base_uri": "https://localhost:8080/",
          "height": 284
        },
        "outputId": "ff2cbe24-2278-48a2-d6e9-38168e792289"
      },
      "source": [
        "sns.distplot(B['Age'].dropna().values, bins=range(0, 81, 1), kde=False, color='blue')"
      ],
      "execution_count": null,
      "outputs": [
        {
          "output_type": "execute_result",
          "data": {
            "text/plain": [
              "<matplotlib.axes._subplots.AxesSubplot at 0x7f4a6d962e10>"
            ]
          },
          "metadata": {
            "tags": []
          },
          "execution_count": 20
        },
        {
          "output_type": "display_data",
          "data": {
            "image/png": "[encoded data removed]",
            "text/plain": [
              "<Figure size 432x288 with 1 Axes>"
            ]
          },
          "metadata": {
            "tags": [],
            "needs_background": "light"
          }
        }
      ]
    },
    {
      "cell_type": "code",
      "metadata": {
        "id": "0gvMPXpQd33e",
        "colab_type": "code",
        "colab": {
          "base_uri": "https://localhost:8080/",
          "height": 282
        },
        "outputId": "6b7d6e05-753b-4d69-af27-e7e0dcafd706"
      },
      "source": [
        "sns.distplot(C['Age'].dropna().values, bins=range(0, 81, 1), kde=False, color='blue')"
      ],
      "execution_count": null,
      "outputs": [
        {
          "output_type": "execute_result",
          "data": {
            "text/plain": [
              "<matplotlib.axes._subplots.AxesSubplot at 0x7f4a6da402b0>"
            ]
          },
          "metadata": {
            "tags": []
          },
          "execution_count": 21
        },
        {
          "output_type": "display_data",
          "data": {
            "image/png": "[encoded data removed]",
            "text/plain": [
              "<Figure size 432x288 with 1 Axes>"
            ]
          },
          "metadata": {
            "tags": [],
            "needs_background": "light"
          }
        }
      ]
    },
    {
      "cell_type": "code",
      "metadata": {
        "id": "Dni88HY1d8zA",
        "colab_type": "code",
        "colab": {
          "base_uri": "https://localhost:8080/",
          "height": 282
        },
        "outputId": "534aa71f-2dec-48ef-b67d-f3d3f668e04e"
      },
      "source": [
        "sns.distplot(D['Age'].dropna().values, bins=range(0, 81, 1), kde=False, color='blue')"
      ],
      "execution_count": null,
      "outputs": [
        {
          "output_type": "execute_result",
          "data": {
            "text/plain": [
              "<matplotlib.axes._subplots.AxesSubplot at 0x7f4a6db0a588>"
            ]
          },
          "metadata": {
            "tags": []
          },
          "execution_count": 22
        },
        {
          "output_type": "display_data",
          "data": {
            "image/png": "[encoded data removed]",
            "text/plain": [
              "<Figure size 432x288 with 1 Axes>"
            ]
          },
          "metadata": {
            "tags": [],
            "needs_background": "light"
          }
        }
      ]
    },
    {
      "cell_type": "code",
      "metadata": {
        "id": "WxNZ_DMNeTab",
        "colab_type": "code",
        "colab": {
          "base_uri": "https://localhost:8080/",
          "height": 297
        },
        "outputId": "2f527bf8-bfc0-44ed-c3ac-1c55736f01ca"
      },
      "source": [
        "pd.crosstab(train['Var_1'],train['Segmentation'],normalize='index')"
      ],
      "execution_count": null,
      "outputs": [
        {
          "output_type": "execute_result",
          "data": {
            "text/html": [
              "<div>\n",
              "<style scoped>\n",
              "    .dataframe tbody tr th:only-of-type {\n",
              "        vertical-align: middle;\n",
              "    }\n",
              "\n",
              "    .dataframe tbody tr th {\n",
              "        vertical-align: top;\n",
              "    }\n",
              "\n",
              "    .dataframe thead th {\n",
              "        text-align: right;\n",
              "    }\n",
              "</style>\n",
              "<table border=\"1\" class=\"dataframe\">\n",
              "  <thead>\n",
              "    <tr style=\"text-align: right;\">\n",
              "      <th>Segmentation</th>\n",
              "      <th>A</th>\n",
              "      <th>B</th>\n",
              "      <th>C</th>\n",
              "      <th>D</th>\n",
              "    </tr>\n",
              "    <tr>\n",
              "      <th>Var_1</th>\n",
              "      <th></th>\n",
              "      <th></th>\n",
              "      <th></th>\n",
              "      <th></th>\n",
              "    </tr>\n",
              "  </thead>\n",
              "  <tbody>\n",
              "    <tr>\n",
              "      <th>Cat_1</th>\n",
              "      <td>0.233083</td>\n",
              "      <td>0.195489</td>\n",
              "      <td>0.195489</td>\n",
              "      <td>0.375940</td>\n",
              "    </tr>\n",
              "    <tr>\n",
              "      <th>Cat_2</th>\n",
              "      <td>0.196682</td>\n",
              "      <td>0.251185</td>\n",
              "      <td>0.234597</td>\n",
              "      <td>0.317536</td>\n",
              "    </tr>\n",
              "    <tr>\n",
              "      <th>Cat_3</th>\n",
              "      <td>0.271290</td>\n",
              "      <td>0.226277</td>\n",
              "      <td>0.187348</td>\n",
              "      <td>0.315085</td>\n",
              "    </tr>\n",
              "    <tr>\n",
              "      <th>Cat_4</th>\n",
              "      <td>0.305785</td>\n",
              "      <td>0.213039</td>\n",
              "      <td>0.100092</td>\n",
              "      <td>0.381084</td>\n",
              "    </tr>\n",
              "    <tr>\n",
              "      <th>Cat_5</th>\n",
              "      <td>0.223529</td>\n",
              "      <td>0.235294</td>\n",
              "      <td>0.211765</td>\n",
              "      <td>0.329412</td>\n",
              "    </tr>\n",
              "    <tr>\n",
              "      <th>Cat_6</th>\n",
              "      <td>0.231577</td>\n",
              "      <td>0.235204</td>\n",
              "      <td>0.285605</td>\n",
              "      <td>0.247614</td>\n",
              "    </tr>\n",
              "    <tr>\n",
              "      <th>Cat_7</th>\n",
              "      <td>0.251232</td>\n",
              "      <td>0.211823</td>\n",
              "      <td>0.231527</td>\n",
              "      <td>0.305419</td>\n",
              "    </tr>\n",
              "  </tbody>\n",
              "</table>\n",
              "</div>"
            ],
            "text/plain": [
              "Segmentation         A         B         C         D\n",
              "Var_1                                               \n",
              "Cat_1         0.233083  0.195489  0.195489  0.375940\n",
              "Cat_2         0.196682  0.251185  0.234597  0.317536\n",
              "Cat_3         0.271290  0.226277  0.187348  0.315085\n",
              "Cat_4         0.305785  0.213039  0.100092  0.381084\n",
              "Cat_5         0.223529  0.235294  0.211765  0.329412\n",
              "Cat_6         0.231577  0.235204  0.285605  0.247614\n",
              "Cat_7         0.251232  0.211823  0.231527  0.305419"
            ]
          },
          "metadata": {
            "tags": []
          },
          "execution_count": 40
        }
      ]
    },
    {
      "cell_type": "code",
      "metadata": {
        "id": "ug0cN5T8fjQ8",
        "colab_type": "code",
        "colab": {}
      },
      "source": [
        ""
      ],
      "execution_count": null,
      "outputs": []
    },
    {
      "cell_type": "markdown",
      "metadata": {
        "id": "mlJQItRazplx",
        "colab_type": "text"
      },
      "source": [
        "**LABEL ENCODING**"
      ]
    },
    {
      "cell_type": "code",
      "metadata": {
        "id": "-_jePtMgfjOg",
        "colab_type": "code",
        "colab": {}
      },
      "source": [
        "gender_map = {\n",
        "    'Male':0,\n",
        "    'Female':1\n",
        "}\n",
        "Ever_Married = {\n",
        "    'No':0,\n",
        "    'Yes':1\n",
        "}\n",
        "grad = {\n",
        "    'No':0,\n",
        "    'Yes':1\n",
        "}\n",
        "spend_score ={\n",
        "    'Low':0,\n",
        "    'Average':1,\n",
        "    'High':2\n",
        "}\n",
        "var1 ={\n",
        "    'Low':0,\n",
        "    'Average':1,\n",
        "    'High':2\n",
        "}\n",
        "proff ={'Artist': 0,\n",
        " 'Healthcare': 1,\n",
        " 'Entertainment': 2,\n",
        " 'Engineer':3,\n",
        " 'Doctor': 4,\n",
        " 'Lawyer': 5,\n",
        " 'Executive': 6,\n",
        " 'Marketing': 7,\n",
        " 'Homemaker': 8}\n",
        "cat_var = {'Cat_6': 5,\n",
        "           'Cat_4': 3,\n",
        " 'Cat_3': 2,\n",
        " 'Cat_2': 1,\n",
        " 'Cat_7': 6,\n",
        " 'Cat_1': 0,\n",
        " 'Cat_5': 4}\n",
        "\n",
        "seg ={\n",
        "    'A':0,\n",
        "    'B':1,\n",
        "    'C':2,\n",
        "    'D':3\n",
        "}\n",
        "    \n",
        "rev_seg ={\n",
        "    0:'A',\n",
        "    1:'B',\n",
        "    2:'C',\n",
        "    3:'D'\n",
        "}\n",
        "map_bins = {'35-45': 3,\n",
        " '25-35': 2,\n",
        " '45-55': 4,\n",
        " '65-100': 6,\n",
        " '0-25': 1,\n",
        " '55-65': 5}"
      ],
      "execution_count": null,
      "outputs": []
    },
    {
      "cell_type": "code",
      "metadata": {
        "id": "_yZtkgLf4svB",
        "colab_type": "code",
        "colab": {}
      },
      "source": [
        "le = LabelEncoder()\n",
        "data[\"Prof+Grad\"] = data[\"Profession\"].fillna('-9999')+\"_\"+data[\"Graduated\"].astype(str)\n",
        "data[\"Prof+Grad\"] = le.fit_transform(data[\"Prof+Grad\"])"
      ],
      "execution_count": null,
      "outputs": []
    },
    {
      "cell_type": "code",
      "metadata": {
        "id": "K5fPvcQZ4s-y",
        "colab_type": "code",
        "colab": {}
      },
      "source": [
        "data['Gender'] =data['Gender'].map(gender_map)\n",
        "data['Ever_Married'] = data['Ever_Married'].map(Ever_Married)\n",
        "data['Graduated'] = data['Graduated'].map(grad)\n",
        "data['Profession']= data['Profession'].map(proff)\n",
        "data['Spending_Score'] = data['Spending_Score'].map(spend_score)\n",
        "data['Var_1'] = data['Var_1'].map(cat_var)\n",
        "data['Segmentation'] = data['Segmentation'].map(seg)"
      ],
      "execution_count": null,
      "outputs": []
    },
    {
      "cell_type": "code",
      "metadata": {
        "id": "dWgeUQ814hnR",
        "colab_type": "code",
        "colab": {}
      },
      "source": [
        "\n",
        "def get_age_groups(x):\n",
        "    if x <= 25:\n",
        "        return '0-25'\n",
        "    if x > 25 and x<=35:\n",
        "        return '25-35'\n",
        "    if x>35 and x<=45:\n",
        "        return '35-45'\n",
        "    if x>45 and x<=55:\n",
        "        return '45-55'\n",
        "    if x>55 and x<=65:\n",
        "        return '55-65'\n",
        "    else:\n",
        "        return '65-100'"
      ],
      "execution_count": null,
      "outputs": []
    },
    {
      "cell_type": "code",
      "metadata": {
        "id": "WXd-FHJ04h1N",
        "colab_type": "code",
        "colab": {}
      },
      "source": [
        "map_bins = {'35-45': 3,\n",
        " '25-35': 2,\n",
        " '45-55': 4,\n",
        " '65-100': 6,\n",
        " '0-25': 1,\n",
        " '55-65': 5}\n",
        "data['Age_Bins'] = data['Age'].apply(lambda x:get_age_groups(x))\n",
        "data['Age_Bins'] = data['Age_Bins'].map(map_bins)"
      ],
      "execution_count": null,
      "outputs": []
    },
    {
      "cell_type": "code",
      "metadata": {
        "id": "2dIoRRZf4ibU",
        "colab_type": "code",
        "colab": {}
      },
      "source": [
        "\n",
        "for i in range(1,10):\n",
        "#     data[f'prev_target_{i}'] = full_df.sort_values(by='ID')['Segmentation'].fillna(method='ffill').shift(i).sort_index()\n",
        "    data[f'prev_target_{i}'] = data.sort_values(by='ID')['Segmentation'].fillna(method='bfill').shift(-i).sort_index()\n",
        "    # full_df[f'magic_{i}'] = full_df.sort_values(by='ID')['Segmentation'].shift(-i).expanding().mean().fillna(method='bfill').sort_index()\n",
        "    # full_df[f'next_{i}_insects'] = full_df.sort_values(by='ID').groupby(['Age'])['Segmentation'].apply(lambda x: x.shift(i).ffill())"
      ],
      "execution_count": null,
      "outputs": []
    },
    {
      "cell_type": "code",
      "metadata": {
        "id": "PCfbHVVj4ixg",
        "colab_type": "code",
        "colab": {}
      },
      "source": [
        "temp = data.groupby(['Age']).agg({'Spending_Score':['count','mean','sum'],\n",
        "                                   'Work_Experience':['count','sum','min','max','mean'],\n",
        "                                   'Profession':['min','max'],\n",
        "                                       'Family_Size':['sum','min','max'],\n",
        "                                       'Age':['count'],\n",
        "                                    'Var_1':['count','max','min']})\n",
        "temp.columns = ['_'.join(x) for x in temp.columns]\n",
        "data = pd.merge(data,temp,on=['Age'],how='left')"
      ],
      "execution_count": null,
      "outputs": []
    },
    {
      "cell_type": "code",
      "metadata": {
        "id": "8-Hk90Nl4hf7",
        "colab_type": "code",
        "colab": {}
      },
      "source": [
        "temp = data.groupby(['Profession']).agg({\n",
        "                                       'Age':['count','sum','min','max']})\n",
        "temp.columns = ['_Prof_'.join(x) for x in temp.columns]\n",
        "data = pd.merge(data,temp,on=['Profession'],how='left')"
      ],
      "execution_count": null,
      "outputs": []
    },
    {
      "cell_type": "code",
      "metadata": {
        "id": "Gt1UDltdfjMF",
        "colab_type": "code",
        "colab": {}
      },
      "source": [
        "data.fillna(-9999,inplace=True)"
      ],
      "execution_count": null,
      "outputs": []
    },
    {
      "cell_type": "code",
      "metadata": {
        "id": "Yo3vLI2wfjHs",
        "colab_type": "code",
        "colab": {
          "base_uri": "https://localhost:8080/",
          "height": 224
        },
        "outputId": "ad3399d1-6334-484b-f5eb-bbf86545c6fc"
      },
      "source": [
        "data.head()"
      ],
      "execution_count": null,
      "outputs": [
        {
          "output_type": "execute_result",
          "data": {
            "text/html": [
              "<div>\n",
              "<style scoped>\n",
              "    .dataframe tbody tr th:only-of-type {\n",
              "        vertical-align: middle;\n",
              "    }\n",
              "\n",
              "    .dataframe tbody tr th {\n",
              "        vertical-align: top;\n",
              "    }\n",
              "\n",
              "    .dataframe thead th {\n",
              "        text-align: right;\n",
              "    }\n",
              "</style>\n",
              "<table border=\"1\" class=\"dataframe\">\n",
              "  <thead>\n",
              "    <tr style=\"text-align: right;\">\n",
              "      <th></th>\n",
              "      <th>ID</th>\n",
              "      <th>Gender</th>\n",
              "      <th>Ever_Married</th>\n",
              "      <th>Age</th>\n",
              "      <th>Graduated</th>\n",
              "      <th>Profession</th>\n",
              "      <th>Work_Experience</th>\n",
              "      <th>Spending_Score</th>\n",
              "      <th>Family_Size</th>\n",
              "      <th>Var_1</th>\n",
              "      <th>Segmentation</th>\n",
              "      <th>source</th>\n",
              "      <th>Prof+Grad</th>\n",
              "      <th>Age_Bins</th>\n",
              "      <th>prev_target_1</th>\n",
              "      <th>prev_target_2</th>\n",
              "      <th>prev_target_3</th>\n",
              "      <th>prev_target_4</th>\n",
              "      <th>prev_target_5</th>\n",
              "      <th>prev_target_6</th>\n",
              "      <th>prev_target_7</th>\n",
              "      <th>prev_target_8</th>\n",
              "      <th>prev_target_9</th>\n",
              "      <th>Spending_Score_count</th>\n",
              "      <th>Spending_Score_mean</th>\n",
              "      <th>Spending_Score_sum</th>\n",
              "      <th>Work_Experience_count</th>\n",
              "      <th>Work_Experience_sum</th>\n",
              "      <th>Work_Experience_min</th>\n",
              "      <th>Work_Experience_max</th>\n",
              "      <th>Work_Experience_mean</th>\n",
              "      <th>Profession_min</th>\n",
              "      <th>Profession_max</th>\n",
              "      <th>Family_Size_sum</th>\n",
              "      <th>Family_Size_min</th>\n",
              "      <th>Family_Size_max</th>\n",
              "      <th>Age_count</th>\n",
              "      <th>Var_1_count</th>\n",
              "      <th>Var_1_max</th>\n",
              "      <th>Var_1_min</th>\n",
              "      <th>Age_Prof_count</th>\n",
              "      <th>Age_Prof_sum</th>\n",
              "      <th>Age_Prof_min</th>\n",
              "      <th>Age_Prof_max</th>\n",
              "    </tr>\n",
              "  </thead>\n",
              "  <tbody>\n",
              "    <tr>\n",
              "      <th>0</th>\n",
              "      <td>462809</td>\n",
              "      <td>0</td>\n",
              "      <td>0.0</td>\n",
              "      <td>22</td>\n",
              "      <td>0.0</td>\n",
              "      <td>1.0</td>\n",
              "      <td>1.0</td>\n",
              "      <td>0</td>\n",
              "      <td>4.0</td>\n",
              "      <td>3.0</td>\n",
              "      <td>3.0</td>\n",
              "      <td>train</td>\n",
              "      <td>18</td>\n",
              "      <td>1</td>\n",
              "      <td>2.0</td>\n",
              "      <td>1.0</td>\n",
              "      <td>1.0</td>\n",
              "      <td>2.0</td>\n",
              "      <td>0.0</td>\n",
              "      <td>2.0</td>\n",
              "      <td>0.0</td>\n",
              "      <td>0.0</td>\n",
              "      <td>3.0</td>\n",
              "      <td>184</td>\n",
              "      <td>0.092391</td>\n",
              "      <td>17</td>\n",
              "      <td>167</td>\n",
              "      <td>352.0</td>\n",
              "      <td>0.0</td>\n",
              "      <td>11.0</td>\n",
              "      <td>2.107784</td>\n",
              "      <td>0.0</td>\n",
              "      <td>8.0</td>\n",
              "      <td>722.0</td>\n",
              "      <td>1.0</td>\n",
              "      <td>9.0</td>\n",
              "      <td>184</td>\n",
              "      <td>183</td>\n",
              "      <td>6.0</td>\n",
              "      <td>0.0</td>\n",
              "      <td>1750.0</td>\n",
              "      <td>46781.0</td>\n",
              "      <td>18.0</td>\n",
              "      <td>86.0</td>\n",
              "    </tr>\n",
              "    <tr>\n",
              "      <th>1</th>\n",
              "      <td>462643</td>\n",
              "      <td>1</td>\n",
              "      <td>1.0</td>\n",
              "      <td>38</td>\n",
              "      <td>1.0</td>\n",
              "      <td>3.0</td>\n",
              "      <td>-9999.0</td>\n",
              "      <td>1</td>\n",
              "      <td>3.0</td>\n",
              "      <td>3.0</td>\n",
              "      <td>0.0</td>\n",
              "      <td>train</td>\n",
              "      <td>10</td>\n",
              "      <td>3</td>\n",
              "      <td>3.0</td>\n",
              "      <td>3.0</td>\n",
              "      <td>3.0</td>\n",
              "      <td>3.0</td>\n",
              "      <td>3.0</td>\n",
              "      <td>3.0</td>\n",
              "      <td>3.0</td>\n",
              "      <td>3.0</td>\n",
              "      <td>1.0</td>\n",
              "      <td>288</td>\n",
              "      <td>0.482639</td>\n",
              "      <td>139</td>\n",
              "      <td>257</td>\n",
              "      <td>924.0</td>\n",
              "      <td>0.0</td>\n",
              "      <td>14.0</td>\n",
              "      <td>3.595331</td>\n",
              "      <td>0.0</td>\n",
              "      <td>8.0</td>\n",
              "      <td>747.0</td>\n",
              "      <td>1.0</td>\n",
              "      <td>8.0</td>\n",
              "      <td>288</td>\n",
              "      <td>287</td>\n",
              "      <td>6.0</td>\n",
              "      <td>0.0</td>\n",
              "      <td>935.0</td>\n",
              "      <td>38847.0</td>\n",
              "      <td>18.0</td>\n",
              "      <td>81.0</td>\n",
              "    </tr>\n",
              "    <tr>\n",
              "      <th>2</th>\n",
              "      <td>466315</td>\n",
              "      <td>1</td>\n",
              "      <td>1.0</td>\n",
              "      <td>67</td>\n",
              "      <td>1.0</td>\n",
              "      <td>3.0</td>\n",
              "      <td>1.0</td>\n",
              "      <td>0</td>\n",
              "      <td>1.0</td>\n",
              "      <td>5.0</td>\n",
              "      <td>1.0</td>\n",
              "      <td>train</td>\n",
              "      <td>10</td>\n",
              "      <td>6</td>\n",
              "      <td>1.0</td>\n",
              "      <td>1.0</td>\n",
              "      <td>2.0</td>\n",
              "      <td>2.0</td>\n",
              "      <td>1.0</td>\n",
              "      <td>1.0</td>\n",
              "      <td>2.0</td>\n",
              "      <td>2.0</td>\n",
              "      <td>1.0</td>\n",
              "      <td>78</td>\n",
              "      <td>1.012821</td>\n",
              "      <td>79</td>\n",
              "      <td>69</td>\n",
              "      <td>65.0</td>\n",
              "      <td>0.0</td>\n",
              "      <td>10.0</td>\n",
              "      <td>0.942029</td>\n",
              "      <td>0.0</td>\n",
              "      <td>8.0</td>\n",
              "      <td>169.0</td>\n",
              "      <td>1.0</td>\n",
              "      <td>9.0</td>\n",
              "      <td>78</td>\n",
              "      <td>78</td>\n",
              "      <td>6.0</td>\n",
              "      <td>0.0</td>\n",
              "      <td>935.0</td>\n",
              "      <td>38847.0</td>\n",
              "      <td>18.0</td>\n",
              "      <td>81.0</td>\n",
              "    </tr>\n",
              "    <tr>\n",
              "      <th>3</th>\n",
              "      <td>461735</td>\n",
              "      <td>0</td>\n",
              "      <td>1.0</td>\n",
              "      <td>67</td>\n",
              "      <td>1.0</td>\n",
              "      <td>5.0</td>\n",
              "      <td>0.0</td>\n",
              "      <td>2</td>\n",
              "      <td>2.0</td>\n",
              "      <td>5.0</td>\n",
              "      <td>1.0</td>\n",
              "      <td>train</td>\n",
              "      <td>25</td>\n",
              "      <td>6</td>\n",
              "      <td>2.0</td>\n",
              "      <td>1.0</td>\n",
              "      <td>1.0</td>\n",
              "      <td>2.0</td>\n",
              "      <td>2.0</td>\n",
              "      <td>2.0</td>\n",
              "      <td>1.0</td>\n",
              "      <td>1.0</td>\n",
              "      <td>2.0</td>\n",
              "      <td>78</td>\n",
              "      <td>1.012821</td>\n",
              "      <td>79</td>\n",
              "      <td>69</td>\n",
              "      <td>65.0</td>\n",
              "      <td>0.0</td>\n",
              "      <td>10.0</td>\n",
              "      <td>0.942029</td>\n",
              "      <td>0.0</td>\n",
              "      <td>8.0</td>\n",
              "      <td>169.0</td>\n",
              "      <td>1.0</td>\n",
              "      <td>9.0</td>\n",
              "      <td>78</td>\n",
              "      <td>78</td>\n",
              "      <td>6.0</td>\n",
              "      <td>0.0</td>\n",
              "      <td>844.0</td>\n",
              "      <td>63583.0</td>\n",
              "      <td>20.0</td>\n",
              "      <td>89.0</td>\n",
              "    </tr>\n",
              "    <tr>\n",
              "      <th>4</th>\n",
              "      <td>462669</td>\n",
              "      <td>1</td>\n",
              "      <td>1.0</td>\n",
              "      <td>40</td>\n",
              "      <td>1.0</td>\n",
              "      <td>2.0</td>\n",
              "      <td>-9999.0</td>\n",
              "      <td>2</td>\n",
              "      <td>6.0</td>\n",
              "      <td>5.0</td>\n",
              "      <td>0.0</td>\n",
              "      <td>train</td>\n",
              "      <td>13</td>\n",
              "      <td>3</td>\n",
              "      <td>0.0</td>\n",
              "      <td>0.0</td>\n",
              "      <td>3.0</td>\n",
              "      <td>3.0</td>\n",
              "      <td>1.0</td>\n",
              "      <td>0.0</td>\n",
              "      <td>0.0</td>\n",
              "      <td>1.0</td>\n",
              "      <td>2.0</td>\n",
              "      <td>300</td>\n",
              "      <td>0.466667</td>\n",
              "      <td>140</td>\n",
              "      <td>272</td>\n",
              "      <td>994.0</td>\n",
              "      <td>0.0</td>\n",
              "      <td>14.0</td>\n",
              "      <td>3.654412</td>\n",
              "      <td>0.0</td>\n",
              "      <td>8.0</td>\n",
              "      <td>706.0</td>\n",
              "      <td>1.0</td>\n",
              "      <td>9.0</td>\n",
              "      <td>300</td>\n",
              "      <td>298</td>\n",
              "      <td>6.0</td>\n",
              "      <td>0.0</td>\n",
              "      <td>1250.0</td>\n",
              "      <td>53679.0</td>\n",
              "      <td>18.0</td>\n",
              "      <td>89.0</td>\n",
              "    </tr>\n",
              "  </tbody>\n",
              "</table>\n",
              "</div>"
            ],
            "text/plain": [
              "       ID  Gender  Ever_Married  ...  Age_Prof_sum  Age_Prof_min  Age_Prof_max\n",
              "0  462809       0           0.0  ...       46781.0          18.0          86.0\n",
              "1  462643       1           1.0  ...       38847.0          18.0          81.0\n",
              "2  466315       1           1.0  ...       38847.0          18.0          81.0\n",
              "3  461735       0           1.0  ...       63583.0          20.0          89.0\n",
              "4  462669       1           1.0  ...       53679.0          18.0          89.0\n",
              "\n",
              "[5 rows x 44 columns]"
            ]
          },
          "metadata": {
            "tags": []
          },
          "execution_count": 60
        }
      ]
    },
    {
      "cell_type": "code",
      "metadata": {
        "id": "ry02B3tmr0iG",
        "colab_type": "code",
        "colab": {
          "base_uri": "https://localhost:8080/",
          "height": 102
        },
        "outputId": "0f980a27-3836-4256-e6a8-51a5de69939a"
      },
      "source": [
        "#Divide into test and train:\n",
        "train_new = data.loc[data['source']==\"train\"]\n",
        "test_new = data.loc[data['source']==\"test\"]\n",
        "#Drop unnecessary columns:\n",
        "test_new.drop(['source'],axis=1,inplace=True)\n",
        "train_new.drop(['source'],axis=1,inplace=True)"
      ],
      "execution_count": null,
      "outputs": [
        {
          "output_type": "stream",
          "text": [
            "/usr/local/lib/python3.6/dist-packages/pandas/core/frame.py:3997: SettingWithCopyWarning: \n",
            "A value is trying to be set on a copy of a slice from a DataFrame\n",
            "\n",
            "See the caveats in the documentation: https://pandas.pydata.org/pandas-docs/stable/user_guide/indexing.html#returning-a-view-versus-a-copy\n",
            "  errors=errors,\n"
          ],
          "name": "stderr"
        }
      ]
    },
    {
      "cell_type": "code",
      "metadata": {
        "id": "2pLwMYgTr3O5",
        "colab_type": "code",
        "colab": {
          "base_uri": "https://localhost:8080/",
          "height": 224
        },
        "outputId": "8e3ceb48-667d-4ec7-c006-dcaeaf1e491d"
      },
      "source": [
        "train_new.head()"
      ],
      "execution_count": null,
      "outputs": [
        {
          "output_type": "execute_result",
          "data": {
            "text/html": [
              "<div>\n",
              "<style scoped>\n",
              "    .dataframe tbody tr th:only-of-type {\n",
              "        vertical-align: middle;\n",
              "    }\n",
              "\n",
              "    .dataframe tbody tr th {\n",
              "        vertical-align: top;\n",
              "    }\n",
              "\n",
              "    .dataframe thead th {\n",
              "        text-align: right;\n",
              "    }\n",
              "</style>\n",
              "<table border=\"1\" class=\"dataframe\">\n",
              "  <thead>\n",
              "    <tr style=\"text-align: right;\">\n",
              "      <th></th>\n",
              "      <th>ID</th>\n",
              "      <th>Gender</th>\n",
              "      <th>Ever_Married</th>\n",
              "      <th>Age</th>\n",
              "      <th>Graduated</th>\n",
              "      <th>Profession</th>\n",
              "      <th>Work_Experience</th>\n",
              "      <th>Spending_Score</th>\n",
              "      <th>Family_Size</th>\n",
              "      <th>Var_1</th>\n",
              "      <th>Segmentation</th>\n",
              "      <th>Prof+Grad</th>\n",
              "      <th>Age_Bins</th>\n",
              "      <th>prev_target_1</th>\n",
              "      <th>prev_target_2</th>\n",
              "      <th>prev_target_3</th>\n",
              "      <th>prev_target_4</th>\n",
              "      <th>prev_target_5</th>\n",
              "      <th>prev_target_6</th>\n",
              "      <th>prev_target_7</th>\n",
              "      <th>prev_target_8</th>\n",
              "      <th>prev_target_9</th>\n",
              "      <th>Spending_Score_count</th>\n",
              "      <th>Spending_Score_mean</th>\n",
              "      <th>Spending_Score_sum</th>\n",
              "      <th>Work_Experience_count</th>\n",
              "      <th>Work_Experience_sum</th>\n",
              "      <th>Work_Experience_min</th>\n",
              "      <th>Work_Experience_max</th>\n",
              "      <th>Work_Experience_mean</th>\n",
              "      <th>Profession_min</th>\n",
              "      <th>Profession_max</th>\n",
              "      <th>Family_Size_sum</th>\n",
              "      <th>Family_Size_min</th>\n",
              "      <th>Family_Size_max</th>\n",
              "      <th>Age_count</th>\n",
              "      <th>Var_1_count</th>\n",
              "      <th>Var_1_max</th>\n",
              "      <th>Var_1_min</th>\n",
              "      <th>Age_Prof_count</th>\n",
              "      <th>Age_Prof_sum</th>\n",
              "      <th>Age_Prof_min</th>\n",
              "      <th>Age_Prof_max</th>\n",
              "    </tr>\n",
              "  </thead>\n",
              "  <tbody>\n",
              "    <tr>\n",
              "      <th>0</th>\n",
              "      <td>462809</td>\n",
              "      <td>0</td>\n",
              "      <td>0.0</td>\n",
              "      <td>22</td>\n",
              "      <td>0.0</td>\n",
              "      <td>1.0</td>\n",
              "      <td>1.0</td>\n",
              "      <td>0</td>\n",
              "      <td>4.0</td>\n",
              "      <td>3.0</td>\n",
              "      <td>3.0</td>\n",
              "      <td>18</td>\n",
              "      <td>1</td>\n",
              "      <td>2.0</td>\n",
              "      <td>1.0</td>\n",
              "      <td>1.0</td>\n",
              "      <td>2.0</td>\n",
              "      <td>0.0</td>\n",
              "      <td>2.0</td>\n",
              "      <td>0.0</td>\n",
              "      <td>0.0</td>\n",
              "      <td>3.0</td>\n",
              "      <td>184</td>\n",
              "      <td>0.092391</td>\n",
              "      <td>17</td>\n",
              "      <td>167</td>\n",
              "      <td>352.0</td>\n",
              "      <td>0.0</td>\n",
              "      <td>11.0</td>\n",
              "      <td>2.107784</td>\n",
              "      <td>0.0</td>\n",
              "      <td>8.0</td>\n",
              "      <td>722.0</td>\n",
              "      <td>1.0</td>\n",
              "      <td>9.0</td>\n",
              "      <td>184</td>\n",
              "      <td>183</td>\n",
              "      <td>6.0</td>\n",
              "      <td>0.0</td>\n",
              "      <td>1750.0</td>\n",
              "      <td>46781.0</td>\n",
              "      <td>18.0</td>\n",
              "      <td>86.0</td>\n",
              "    </tr>\n",
              "    <tr>\n",
              "      <th>1</th>\n",
              "      <td>462643</td>\n",
              "      <td>1</td>\n",
              "      <td>1.0</td>\n",
              "      <td>38</td>\n",
              "      <td>1.0</td>\n",
              "      <td>3.0</td>\n",
              "      <td>-9999.0</td>\n",
              "      <td>1</td>\n",
              "      <td>3.0</td>\n",
              "      <td>3.0</td>\n",
              "      <td>0.0</td>\n",
              "      <td>10</td>\n",
              "      <td>3</td>\n",
              "      <td>3.0</td>\n",
              "      <td>3.0</td>\n",
              "      <td>3.0</td>\n",
              "      <td>3.0</td>\n",
              "      <td>3.0</td>\n",
              "      <td>3.0</td>\n",
              "      <td>3.0</td>\n",
              "      <td>3.0</td>\n",
              "      <td>1.0</td>\n",
              "      <td>288</td>\n",
              "      <td>0.482639</td>\n",
              "      <td>139</td>\n",
              "      <td>257</td>\n",
              "      <td>924.0</td>\n",
              "      <td>0.0</td>\n",
              "      <td>14.0</td>\n",
              "      <td>3.595331</td>\n",
              "      <td>0.0</td>\n",
              "      <td>8.0</td>\n",
              "      <td>747.0</td>\n",
              "      <td>1.0</td>\n",
              "      <td>8.0</td>\n",
              "      <td>288</td>\n",
              "      <td>287</td>\n",
              "      <td>6.0</td>\n",
              "      <td>0.0</td>\n",
              "      <td>935.0</td>\n",
              "      <td>38847.0</td>\n",
              "      <td>18.0</td>\n",
              "      <td>81.0</td>\n",
              "    </tr>\n",
              "    <tr>\n",
              "      <th>2</th>\n",
              "      <td>466315</td>\n",
              "      <td>1</td>\n",
              "      <td>1.0</td>\n",
              "      <td>67</td>\n",
              "      <td>1.0</td>\n",
              "      <td>3.0</td>\n",
              "      <td>1.0</td>\n",
              "      <td>0</td>\n",
              "      <td>1.0</td>\n",
              "      <td>5.0</td>\n",
              "      <td>1.0</td>\n",
              "      <td>10</td>\n",
              "      <td>6</td>\n",
              "      <td>1.0</td>\n",
              "      <td>1.0</td>\n",
              "      <td>2.0</td>\n",
              "      <td>2.0</td>\n",
              "      <td>1.0</td>\n",
              "      <td>1.0</td>\n",
              "      <td>2.0</td>\n",
              "      <td>2.0</td>\n",
              "      <td>1.0</td>\n",
              "      <td>78</td>\n",
              "      <td>1.012821</td>\n",
              "      <td>79</td>\n",
              "      <td>69</td>\n",
              "      <td>65.0</td>\n",
              "      <td>0.0</td>\n",
              "      <td>10.0</td>\n",
              "      <td>0.942029</td>\n",
              "      <td>0.0</td>\n",
              "      <td>8.0</td>\n",
              "      <td>169.0</td>\n",
              "      <td>1.0</td>\n",
              "      <td>9.0</td>\n",
              "      <td>78</td>\n",
              "      <td>78</td>\n",
              "      <td>6.0</td>\n",
              "      <td>0.0</td>\n",
              "      <td>935.0</td>\n",
              "      <td>38847.0</td>\n",
              "      <td>18.0</td>\n",
              "      <td>81.0</td>\n",
              "    </tr>\n",
              "    <tr>\n",
              "      <th>3</th>\n",
              "      <td>461735</td>\n",
              "      <td>0</td>\n",
              "      <td>1.0</td>\n",
              "      <td>67</td>\n",
              "      <td>1.0</td>\n",
              "      <td>5.0</td>\n",
              "      <td>0.0</td>\n",
              "      <td>2</td>\n",
              "      <td>2.0</td>\n",
              "      <td>5.0</td>\n",
              "      <td>1.0</td>\n",
              "      <td>25</td>\n",
              "      <td>6</td>\n",
              "      <td>2.0</td>\n",
              "      <td>1.0</td>\n",
              "      <td>1.0</td>\n",
              "      <td>2.0</td>\n",
              "      <td>2.0</td>\n",
              "      <td>2.0</td>\n",
              "      <td>1.0</td>\n",
              "      <td>1.0</td>\n",
              "      <td>2.0</td>\n",
              "      <td>78</td>\n",
              "      <td>1.012821</td>\n",
              "      <td>79</td>\n",
              "      <td>69</td>\n",
              "      <td>65.0</td>\n",
              "      <td>0.0</td>\n",
              "      <td>10.0</td>\n",
              "      <td>0.942029</td>\n",
              "      <td>0.0</td>\n",
              "      <td>8.0</td>\n",
              "      <td>169.0</td>\n",
              "      <td>1.0</td>\n",
              "      <td>9.0</td>\n",
              "      <td>78</td>\n",
              "      <td>78</td>\n",
              "      <td>6.0</td>\n",
              "      <td>0.0</td>\n",
              "      <td>844.0</td>\n",
              "      <td>63583.0</td>\n",
              "      <td>20.0</td>\n",
              "      <td>89.0</td>\n",
              "    </tr>\n",
              "    <tr>\n",
              "      <th>4</th>\n",
              "      <td>462669</td>\n",
              "      <td>1</td>\n",
              "      <td>1.0</td>\n",
              "      <td>40</td>\n",
              "      <td>1.0</td>\n",
              "      <td>2.0</td>\n",
              "      <td>-9999.0</td>\n",
              "      <td>2</td>\n",
              "      <td>6.0</td>\n",
              "      <td>5.0</td>\n",
              "      <td>0.0</td>\n",
              "      <td>13</td>\n",
              "      <td>3</td>\n",
              "      <td>0.0</td>\n",
              "      <td>0.0</td>\n",
              "      <td>3.0</td>\n",
              "      <td>3.0</td>\n",
              "      <td>1.0</td>\n",
              "      <td>0.0</td>\n",
              "      <td>0.0</td>\n",
              "      <td>1.0</td>\n",
              "      <td>2.0</td>\n",
              "      <td>300</td>\n",
              "      <td>0.466667</td>\n",
              "      <td>140</td>\n",
              "      <td>272</td>\n",
              "      <td>994.0</td>\n",
              "      <td>0.0</td>\n",
              "      <td>14.0</td>\n",
              "      <td>3.654412</td>\n",
              "      <td>0.0</td>\n",
              "      <td>8.0</td>\n",
              "      <td>706.0</td>\n",
              "      <td>1.0</td>\n",
              "      <td>9.0</td>\n",
              "      <td>300</td>\n",
              "      <td>298</td>\n",
              "      <td>6.0</td>\n",
              "      <td>0.0</td>\n",
              "      <td>1250.0</td>\n",
              "      <td>53679.0</td>\n",
              "      <td>18.0</td>\n",
              "      <td>89.0</td>\n",
              "    </tr>\n",
              "  </tbody>\n",
              "</table>\n",
              "</div>"
            ],
            "text/plain": [
              "       ID  Gender  Ever_Married  ...  Age_Prof_sum  Age_Prof_min  Age_Prof_max\n",
              "0  462809       0           0.0  ...       46781.0          18.0          86.0\n",
              "1  462643       1           1.0  ...       38847.0          18.0          81.0\n",
              "2  466315       1           1.0  ...       38847.0          18.0          81.0\n",
              "3  461735       0           1.0  ...       63583.0          20.0          89.0\n",
              "4  462669       1           1.0  ...       53679.0          18.0          89.0\n",
              "\n",
              "[5 rows x 43 columns]"
            ]
          },
          "metadata": {
            "tags": []
          },
          "execution_count": 19
        }
      ]
    },
    {
      "cell_type": "code",
      "metadata": {
        "id": "JNDH3ZwhN2e4",
        "colab_type": "code",
        "colab": {
          "base_uri": "https://localhost:8080/",
          "height": 204
        },
        "outputId": "fb4fd9f7-cca3-4a1a-c274-e385a0083182"
      },
      "source": [
        "print(train_new.columns.values)"
      ],
      "execution_count": null,
      "outputs": [
        {
          "output_type": "stream",
          "text": [
            "['ID' 'Gender' 'Ever_Married' 'Age' 'Graduated' 'Profession'\n",
            " 'Work_Experience' 'Spending_Score' 'Family_Size' 'Var_1' 'Segmentation'\n",
            " 'Prof+Grad' 'Age_Bins' 'prev_target_1' 'prev_target_2' 'prev_target_3'\n",
            " 'prev_target_4' 'prev_target_5' 'prev_target_6' 'prev_target_7'\n",
            " 'prev_target_8' 'prev_target_9' 'Spending_Score_count'\n",
            " 'Spending_Score_mean' 'Spending_Score_sum' 'Work_Experience_count'\n",
            " 'Work_Experience_sum' 'Work_Experience_min' 'Work_Experience_max'\n",
            " 'Work_Experience_mean' 'Profession_min' 'Profession_max'\n",
            " 'Family_Size_sum' 'Family_Size_min' 'Family_Size_max' 'Age_count'\n",
            " 'Var_1_count' 'Var_1_max' 'Var_1_min' 'Age_Prof_count' 'Age_Prof_sum'\n",
            " 'Age_Prof_min' 'Age_Prof_max']\n"
          ],
          "name": "stdout"
        }
      ]
    },
    {
      "cell_type": "code",
      "metadata": {
        "id": "F-TCUwOwNbky",
        "colab_type": "code",
        "colab": {}
      },
      "source": [
        "col=['Gender','Ever_Married','Age','Graduated','Profession',\n",
        " 'Work_Experience','Spending_Score','Family_Size','Var_1',\n",
        " 'Prof+Grad' ,'Age_Bins', 'prev_target_1' ,'prev_target_2', 'prev_target_3',\n",
        " 'prev_target_4', 'prev_target_5', 'prev_target_6' ,'prev_target_7',\n",
        " 'prev_target_8' ,'prev_target_9' ,'Spending_Score_count',\n",
        " 'Spending_Score_mean', 'Spending_Score_sum' ,'Work_Experience_count',\n",
        " 'Work_Experience_sum', 'Work_Experience_min', 'Work_Experience_max',\n",
        " 'Work_Experience_mean' ,'Profession_min' ,'Profession_max',\n",
        " 'Family_Size_sum' ,'Family_Size_min' ,'Family_Size_max','Age_count',\n",
        " 'Var_1_count' ,'Var_1_max' ,'Var_1_min' ,'Age_Prof_count', 'Age_Prof_sum',\n",
        " 'Age_Prof_min', 'Age_Prof_max']\n",
        "label_col='Segmentation'"
      ],
      "execution_count": null,
      "outputs": []
    },
    {
      "cell_type": "code",
      "metadata": {
        "id": "DuP2t5tJOxM5",
        "colab_type": "code",
        "colab": {}
      },
      "source": [
        "cat_col=['Ever_Married','Graduated','Profession','Spending_Score','Var_1','Gender']"
      ],
      "execution_count": null,
      "outputs": []
    },
    {
      "cell_type": "code",
      "metadata": {
        "id": "--mOldFKuAX2",
        "colab_type": "code",
        "colab": {}
      },
      "source": [
        "x=train_new[col]\n",
        "y=train_new[label_col]"
      ],
      "execution_count": null,
      "outputs": []
    },
    {
      "cell_type": "code",
      "metadata": {
        "id": "VgY5wznsQiJG",
        "colab_type": "code",
        "colab": {
          "base_uri": "https://localhost:8080/",
          "height": 119
        },
        "outputId": "482b4933-d13f-4aed-baa3-6a087d3e8af5"
      },
      "source": [
        "from lightgbm import LGBMClassifier\n",
        "# lgb = LGBMClassifier(n_estimators = 300,class_weight = 'balanced',learning_rate=0.3,\n",
        "#                     max_features = .6,max_depth = 20,random_state=27)\n",
        "lgb = LGBMClassifier(random_state=27)\n",
        "lgb.fit(x,y)"
      ],
      "execution_count": null,
      "outputs": [
        {
          "output_type": "execute_result",
          "data": {
            "text/plain": [
              "LGBMClassifier(boosting_type='gbdt', class_weight=None, colsample_bytree=1.0,\n",
              "               importance_type='split', learning_rate=0.1, max_depth=-1,\n",
              "               min_child_samples=20, min_child_weight=0.001, min_split_gain=0.0,\n",
              "               n_estimators=100, n_jobs=-1, num_leaves=31, objective=None,\n",
              "               random_state=27, reg_alpha=0.0, reg_lambda=0.0, silent=True,\n",
              "               subsample=1.0, subsample_for_bin=200000, subsample_freq=0)"
            ]
          },
          "metadata": {
            "tags": []
          },
          "execution_count": 65
        }
      ]
    },
    {
      "cell_type": "code",
      "metadata": {
        "id": "ozxJiKHkQiAH",
        "colab_type": "code",
        "colab": {}
      },
      "source": [
        "\n",
        "preds= lgb.predict(test_new[col])"
      ],
      "execution_count": null,
      "outputs": []
    },
    {
      "cell_type": "code",
      "metadata": {
        "id": "HWw3sdxqtQQg",
        "colab_type": "code",
        "colab": {}
      },
      "source": [
        ""
      ],
      "execution_count": null,
      "outputs": []
    },
    {
      "cell_type": "code",
      "metadata": {
        "id": "xc0qifFxrH9U",
        "colab_type": "code",
        "colab": {
          "base_uri": "https://localhost:8080/",
          "height": 204
        },
        "outputId": "b12b8df5-1c05-475c-af80-0e9b3d2d2085"
      },
      "source": [
        "kfold, scores = StratifiedKFold(n_splits=10, shuffle=True, random_state=27), []\n",
        "\n",
        "oof = []\n",
        "feature_importance_df = pd.DataFrame()\n",
        "feature_importance_df['Feature'] = x.columns\n",
        "final_preds = []\n",
        "\n",
        "for n_fold,(train_, test_) in enumerate(kfold.split(x,y)):\n",
        "    x_train, x_test = x.iloc[train_], x.iloc[test_]\n",
        "    y_train, y_test = y.iloc[train_], y.iloc[test_]\n",
        "    model = LGBMClassifier(n_estimators = 300,class_weight = 'balanced',learning_rate=0.3,\n",
        "                    max_features = .6,max_depth = 30,random_state=27)\n",
        "    # model = CatBoostClassifier(random_state=27,verbose = 0)\n",
        "    model.fit(x_train,y_train)\n",
        "    imp_ = importances(model,x_test,y_test)\n",
        "    imp_.rename(columns={\n",
        "        'Importance':f'Importance_{n_fold}'\n",
        "    },inplace=True)\n",
        "    feature_importance_df = pd.merge(feature_importance_df,imp_,on='Feature')\n",
        "    preds = model.predict(x_test)\n",
        "    score = accuracy_score(y_test, preds)\n",
        "    scores.append(score)\n",
        "    oof.append(model.predict_proba(test_new[col]))\n",
        "    print(score)\n",
        "print(str(model).split(\"(\")[0], sum(scores)/len(scores))"
      ],
      "execution_count": null,
      "outputs": [
        {
          "output_type": "stream",
          "text": [
            "0.506815365551425\n",
            "0.483271375464684\n",
            "0.5229244114002478\n",
            "0.4919454770755886\n",
            "0.5204460966542751\n",
            "0.49814126394052044\n",
            "0.516728624535316\n",
            "0.5018587360594795\n",
            "0.5012406947890818\n",
            "0.5037220843672456\n",
            "LGBMClassifier 0.5047094129837864\n"
          ],
          "name": "stdout"
        }
      ]
    },
    {
      "cell_type": "code",
      "metadata": {
        "id": "PVZvsAVDrH3g",
        "colab_type": "code",
        "colab": {}
      },
      "source": [
        "feature_importance_df['Final'] = 0\n",
        "for i in feature_importance_df.columns[1:]:\n",
        "    feature_importance_df['Final']+=feature_importance_df[i] \n",
        "imp = feature_importance_df.sort_values(by='Final',ascending=False)[['Feature','Final']]"
      ],
      "execution_count": null,
      "outputs": []
    },
    {
      "cell_type": "code",
      "metadata": {
        "id": "UNm3Ycq7rHxo",
        "colab_type": "code",
        "colab": {
          "base_uri": "https://localhost:8080/",
          "height": 514
        },
        "outputId": "6c95a389-8a80-47d5-9f60-cf464b0e5fa7"
      },
      "source": [
        "\n",
        "imp[imp['Final']<0]"
      ],
      "execution_count": null,
      "outputs": [
        {
          "output_type": "execute_result",
          "data": {
            "text/html": [
              "<div>\n",
              "<style scoped>\n",
              "    .dataframe tbody tr th:only-of-type {\n",
              "        vertical-align: middle;\n",
              "    }\n",
              "\n",
              "    .dataframe tbody tr th {\n",
              "        vertical-align: top;\n",
              "    }\n",
              "\n",
              "    .dataframe thead th {\n",
              "        text-align: right;\n",
              "    }\n",
              "</style>\n",
              "<table border=\"1\" class=\"dataframe\">\n",
              "  <thead>\n",
              "    <tr style=\"text-align: right;\">\n",
              "      <th></th>\n",
              "      <th>Feature</th>\n",
              "      <th>Final</th>\n",
              "    </tr>\n",
              "  </thead>\n",
              "  <tbody>\n",
              "    <tr>\n",
              "      <th>8</th>\n",
              "      <td>Var_1</td>\n",
              "      <td>-0.002463</td>\n",
              "    </tr>\n",
              "    <tr>\n",
              "      <th>18</th>\n",
              "      <td>prev_target_8</td>\n",
              "      <td>-0.004917</td>\n",
              "    </tr>\n",
              "    <tr>\n",
              "      <th>24</th>\n",
              "      <td>Work_Experience_sum</td>\n",
              "      <td>-0.004972</td>\n",
              "    </tr>\n",
              "    <tr>\n",
              "      <th>26</th>\n",
              "      <td>Work_Experience_max</td>\n",
              "      <td>-0.012358</td>\n",
              "    </tr>\n",
              "    <tr>\n",
              "      <th>30</th>\n",
              "      <td>Family_Size_sum</td>\n",
              "      <td>-0.012358</td>\n",
              "    </tr>\n",
              "    <tr>\n",
              "      <th>39</th>\n",
              "      <td>Age_Prof_min</td>\n",
              "      <td>-0.022299</td>\n",
              "    </tr>\n",
              "    <tr>\n",
              "      <th>23</th>\n",
              "      <td>Work_Experience_count</td>\n",
              "      <td>-0.029780</td>\n",
              "    </tr>\n",
              "    <tr>\n",
              "      <th>16</th>\n",
              "      <td>prev_target_6</td>\n",
              "      <td>-0.039585</td>\n",
              "    </tr>\n",
              "    <tr>\n",
              "      <th>13</th>\n",
              "      <td>prev_target_3</td>\n",
              "      <td>-0.042150</td>\n",
              "    </tr>\n",
              "    <tr>\n",
              "      <th>19</th>\n",
              "      <td>prev_target_9</td>\n",
              "      <td>-0.047125</td>\n",
              "    </tr>\n",
              "    <tr>\n",
              "      <th>32</th>\n",
              "      <td>Family_Size_max</td>\n",
              "      <td>-0.064455</td>\n",
              "    </tr>\n",
              "    <tr>\n",
              "      <th>15</th>\n",
              "      <td>prev_target_5</td>\n",
              "      <td>-0.076859</td>\n",
              "    </tr>\n",
              "    <tr>\n",
              "      <th>14</th>\n",
              "      <td>prev_target_4</td>\n",
              "      <td>-0.081794</td>\n",
              "    </tr>\n",
              "    <tr>\n",
              "      <th>17</th>\n",
              "      <td>prev_target_7</td>\n",
              "      <td>-0.099185</td>\n",
              "    </tr>\n",
              "    <tr>\n",
              "      <th>20</th>\n",
              "      <td>Spending_Score_count</td>\n",
              "      <td>-0.123946</td>\n",
              "    </tr>\n",
              "  </tbody>\n",
              "</table>\n",
              "</div>"
            ],
            "text/plain": [
              "                  Feature     Final\n",
              "8                   Var_1 -0.002463\n",
              "18          prev_target_8 -0.004917\n",
              "24    Work_Experience_sum -0.004972\n",
              "26    Work_Experience_max -0.012358\n",
              "30        Family_Size_sum -0.012358\n",
              "39           Age_Prof_min -0.022299\n",
              "23  Work_Experience_count -0.029780\n",
              "16          prev_target_6 -0.039585\n",
              "13          prev_target_3 -0.042150\n",
              "19          prev_target_9 -0.047125\n",
              "32        Family_Size_max -0.064455\n",
              "15          prev_target_5 -0.076859\n",
              "14          prev_target_4 -0.081794\n",
              "17          prev_target_7 -0.099185\n",
              "20   Spending_Score_count -0.123946"
            ]
          },
          "metadata": {
            "tags": []
          },
          "execution_count": 69
        }
      ]
    },
    {
      "cell_type": "code",
      "metadata": {
        "id": "ZerYmi1WrHrs",
        "colab_type": "code",
        "colab": {}
      },
      "source": [
        "feats = imp[imp['Final']>=0]['Feature'].to_list()"
      ],
      "execution_count": null,
      "outputs": []
    },
    {
      "cell_type": "code",
      "metadata": {
        "id": "u_YGN9BwrHlx",
        "colab_type": "code",
        "colab": {}
      },
      "source": [
        "\n",
        "finalpreds = np.mean(oof,0)"
      ],
      "execution_count": null,
      "outputs": []
    },
    {
      "cell_type": "code",
      "metadata": {
        "id": "mkp4MLoIrHfb",
        "colab_type": "code",
        "colab": {}
      },
      "source": [
        "\n",
        "finalpreds = [np.argmax(x) for x in finalpreds]"
      ],
      "execution_count": null,
      "outputs": []
    },
    {
      "cell_type": "code",
      "metadata": {
        "id": "NSj-4iCnrHYq",
        "colab_type": "code",
        "colab": {}
      },
      "source": [
        ""
      ],
      "execution_count": null,
      "outputs": []
    },
    {
      "cell_type": "code",
      "metadata": {
        "id": "crKnrxlUS6hc",
        "colab_type": "code",
        "colab": {
          "base_uri": "https://localhost:8080/",
          "height": 204
        },
        "outputId": "585f793f-a438-48c7-81eb-193f3418f482"
      },
      "source": [
        "sub.head()"
      ],
      "execution_count": null,
      "outputs": [
        {
          "output_type": "execute_result",
          "data": {
            "text/html": [
              "<div>\n",
              "<style scoped>\n",
              "    .dataframe tbody tr th:only-of-type {\n",
              "        vertical-align: middle;\n",
              "    }\n",
              "\n",
              "    .dataframe tbody tr th {\n",
              "        vertical-align: top;\n",
              "    }\n",
              "\n",
              "    .dataframe thead th {\n",
              "        text-align: right;\n",
              "    }\n",
              "</style>\n",
              "<table border=\"1\" class=\"dataframe\">\n",
              "  <thead>\n",
              "    <tr style=\"text-align: right;\">\n",
              "      <th></th>\n",
              "      <th>ID</th>\n",
              "      <th>Segmentation</th>\n",
              "    </tr>\n",
              "  </thead>\n",
              "  <tbody>\n",
              "    <tr>\n",
              "      <th>0</th>\n",
              "      <td>458989</td>\n",
              "      <td>A</td>\n",
              "    </tr>\n",
              "    <tr>\n",
              "      <th>1</th>\n",
              "      <td>458994</td>\n",
              "      <td>A</td>\n",
              "    </tr>\n",
              "    <tr>\n",
              "      <th>2</th>\n",
              "      <td>458996</td>\n",
              "      <td>A</td>\n",
              "    </tr>\n",
              "    <tr>\n",
              "      <th>3</th>\n",
              "      <td>459000</td>\n",
              "      <td>A</td>\n",
              "    </tr>\n",
              "    <tr>\n",
              "      <th>4</th>\n",
              "      <td>459001</td>\n",
              "      <td>A</td>\n",
              "    </tr>\n",
              "  </tbody>\n",
              "</table>\n",
              "</div>"
            ],
            "text/plain": [
              "       ID Segmentation\n",
              "0  458989            A\n",
              "1  458994            A\n",
              "2  458996            A\n",
              "3  459000            A\n",
              "4  459001            A"
            ]
          },
          "metadata": {
            "tags": []
          },
          "execution_count": 32
        }
      ]
    },
    {
      "cell_type": "code",
      "metadata": {
        "id": "bwp1tnvITJYF",
        "colab_type": "code",
        "colab": {}
      },
      "source": [
        "sub['Segmentation']=finalpreds"
      ],
      "execution_count": null,
      "outputs": []
    },
    {
      "cell_type": "code",
      "metadata": {
        "id": "v7ZSadVuyWXm",
        "colab_type": "code",
        "colab": {
          "base_uri": "https://localhost:8080/",
          "height": 34
        },
        "outputId": "88c00c06-dad6-4e93-cdda-5353db184a3d"
      },
      "source": [
        "reversed_dictionary = {value : key for (key, value) in seg.items()}\n",
        "reversed_dictionary"
      ],
      "execution_count": null,
      "outputs": [
        {
          "output_type": "execute_result",
          "data": {
            "text/plain": [
              "{0: 'A', 1: 'B', 2: 'C', 3: 'D'}"
            ]
          },
          "metadata": {
            "tags": []
          },
          "execution_count": 74
        }
      ]
    },
    {
      "cell_type": "code",
      "metadata": {
        "id": "pZSA5QlA5l4y",
        "colab_type": "code",
        "colab": {
          "base_uri": "https://localhost:8080/",
          "height": 204
        },
        "outputId": "19699306-a9f3-4941-f37d-eefaaf1315eb"
      },
      "source": [
        "display(train_new[\"Segmentation\"].value_counts(normalize=True))\n",
        "print(\"--------------------\")\n",
        "sub[\"Segmentation\"].value_counts(normalize=True)"
      ],
      "execution_count": null,
      "outputs": [
        {
          "output_type": "display_data",
          "data": {
            "text/plain": [
              "3.0    0.281111\n",
              "0.0    0.244422\n",
              "2.0    0.244175\n",
              "1.0    0.230293\n",
              "Name: Segmentation, dtype: float64"
            ]
          },
          "metadata": {
            "tags": []
          }
        },
        {
          "output_type": "stream",
          "text": [
            "--------------------\n"
          ],
          "name": "stdout"
        },
        {
          "output_type": "execute_result",
          "data": {
            "text/plain": [
              "3    0.303007\n",
              "0    0.254663\n",
              "2    0.226875\n",
              "1    0.215455\n",
              "Name: Segmentation, dtype: float64"
            ]
          },
          "metadata": {
            "tags": []
          },
          "execution_count": 75
        }
      ]
    },
    {
      "cell_type": "code",
      "metadata": {
        "id": "3NKO66vk4XjR",
        "colab_type": "code",
        "colab": {}
      },
      "source": [
        ""
      ],
      "execution_count": null,
      "outputs": []
    },
    {
      "cell_type": "markdown",
      "metadata": {
        "id": "moO6U5Q45fh5",
        "colab_type": "text"
      },
      "source": [
        "USING LEAKAGE"
      ]
    },
    {
      "cell_type": "code",
      "metadata": {
        "id": "VnbCfRoz5hY4",
        "colab_type": "code",
        "colab": {}
      },
      "source": [
        "df_test2 = pd.read_csv('Test_LqhgPWU.csv')\n",
        "commonIDlist = list(set(train_new[\"ID\"]) & set(df_test2[\"ID\"]))\n",
        "commonIDlist = pd.DataFrame(commonIDlist,columns=[\"ID\"])\n",
        "knowntest = commonIDlist.merge(train_new[[\"ID\",\"Segmentation\"]],on=\"ID\",how=\"left\")\n",
        "\n",
        "trysub = sub.merge(knowntest,on=\"ID\",how=\"outer\")\n",
        "trysub = trysub.fillna(999)\n",
        "def data(a,b):\n",
        "  if a == 999:\n",
        "    return b\n",
        "  else:\n",
        "    return a\n",
        "for i in range(len(trysub)):\n",
        "  sub.at[i,'Segmentation'] = data(trysub[\"Segmentation_y\"][i],trysub[\"Segmentation_x\"][i])"
      ],
      "execution_count": null,
      "outputs": []
    },
    {
      "cell_type": "code",
      "metadata": {
        "id": "mJEY6huVBYEJ",
        "colab_type": "code",
        "colab": {
          "base_uri": "https://localhost:8080/",
          "height": 204
        },
        "outputId": "dfd13cf6-b054-4cd7-c9f3-e3992d8eea9a"
      },
      "source": [
        "display(train_new[\"Segmentation\"].value_counts(normalize=True))\n",
        "print(\"--------------------\")\n",
        "sub[\"Segmentation\"].value_counts(normalize=True)"
      ],
      "execution_count": null,
      "outputs": [
        {
          "output_type": "display_data",
          "data": {
            "text/plain": [
              "3.0    0.281111\n",
              "0.0    0.244422\n",
              "2.0    0.244175\n",
              "1.0    0.230293\n",
              "Name: Segmentation, dtype: float64"
            ]
          },
          "metadata": {
            "tags": []
          }
        },
        {
          "output_type": "stream",
          "text": [
            "--------------------\n"
          ],
          "name": "stdout"
        },
        {
          "output_type": "execute_result",
          "data": {
            "text/plain": [
              "3    0.281309\n",
              "0    0.255805\n",
              "2    0.234107\n",
              "1    0.228778\n",
              "Name: Segmentation, dtype: float64"
            ]
          },
          "metadata": {
            "tags": []
          },
          "execution_count": 77
        }
      ]
    },
    {
      "cell_type": "code",
      "metadata": {
        "id": "93Bpiwf7BeSm",
        "colab_type": "code",
        "colab": {
          "base_uri": "https://localhost:8080/",
          "height": 34
        },
        "outputId": "8641061c-86c1-48b8-c69e-465492960a07"
      },
      "source": [
        "reversed_dictionary = {value : key for (key, value) in seg.items()}\n",
        "reversed_dictionary"
      ],
      "execution_count": null,
      "outputs": [
        {
          "output_type": "execute_result",
          "data": {
            "text/plain": [
              "{0: 'A', 1: 'B', 2: 'C', 3: 'D'}"
            ]
          },
          "metadata": {
            "tags": []
          },
          "execution_count": 78
        }
      ]
    },
    {
      "cell_type": "code",
      "metadata": {
        "id": "qKuDozyz99ze",
        "colab_type": "code",
        "colab": {}
      },
      "source": [
        "sub[\"Segmentation\"] = sub[\"Segmentation\"].map(reversed_dictionary)"
      ],
      "execution_count": null,
      "outputs": []
    },
    {
      "cell_type": "code",
      "metadata": {
        "id": "TTWqiZGy-Gal",
        "colab_type": "code",
        "colab": {}
      },
      "source": [
        ""
      ],
      "execution_count": null,
      "outputs": []
    },
    {
      "cell_type": "code",
      "metadata": {
        "id": "O0IyDcuVT2mH",
        "colab_type": "code",
        "colab": {}
      },
      "source": [
        "sub.to_csv(\"analytics.csv\",index=False)"
      ],
      "execution_count": null,
      "outputs": []
    },
    {
      "cell_type": "markdown",
      "metadata": {
        "id": "SYRoXYIuBnw1",
        "colab_type": "text"
      },
      "source": [
        "Final Ensembel"
      ]
    },
    {
      "cell_type": "code",
      "metadata": {
        "id": "GuEZjM5BCjxI",
        "colab_type": "code",
        "colab": {}
      },
      "source": [
        ""
      ],
      "execution_count": null,
      "outputs": []
    },
    {
      "cell_type": "code",
      "metadata": {
        "id": "ukGEBd55CkNI",
        "colab_type": "code",
        "colab": {}
      },
      "source": [
        ""
      ],
      "execution_count": null,
      "outputs": []
    }
  ]
}